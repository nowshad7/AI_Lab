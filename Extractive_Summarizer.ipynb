{
  "nbformat": 4,
  "nbformat_minor": 0,
  "metadata": {
    "colab": {
      "name": "Extractive_Summarizer.ipynb",
      "provenance": [],
      "toc_visible": true,
      "authorship_tag": "ABX9TyMPad+gzIZy5BL3jBPvvHGz",
      "include_colab_link": true
    },
    "kernelspec": {
      "display_name": "Python 3",
      "name": "python3"
    }
  },
  "cells": [
    {
      "cell_type": "markdown",
      "metadata": {
        "id": "view-in-github",
        "colab_type": "text"
      },
      "source": [
        "<a href=\"https://colab.research.google.com/github/nowshad7/AI_Lab/blob/master/Extractive_Summarizer.ipynb\" target=\"_parent\"><img src=\"https://colab.research.google.com/assets/colab-badge.svg\" alt=\"Open In Colab\"/></a>"
      ]
    },
    {
      "cell_type": "markdown",
      "metadata": {
        "id": "BIUfoEoKI4Pw"
      },
      "source": [
        "\n",
        "##### Author: Robiul Hasan Nowshad\n",
        "##### Email: nowshad21aug@gmail.com\n"
      ]
    },
    {
      "cell_type": "markdown",
      "metadata": {
        "id": "HAmHR34O6LvX"
      },
      "source": [
        "#Data"
      ]
    },
    {
      "cell_type": "code",
      "metadata": {
        "id": "nKve2T1ig2kk",
        "colab": {
          "base_uri": "https://localhost:8080/"
        },
        "outputId": "8d33abe2-2a38-41c4-b4a7-0643098727f1"
      },
      "source": [
        "import numpy as np\n",
        "import pandas as pd\n",
        "import re\n",
        "import nltk\n",
        "from nltk.corpus import stopwords\n",
        "from nltk.stem import WordNetLemmatizer\n",
        "from sklearn.feature_extraction.text import CountVectorizer\n",
        "from sklearn.feature_extraction.text import TfidfTransformer\n",
        "from sklearn.cluster import KMeans\n",
        "import matplotlib.pyplot as plt\n",
        "#import rouge\n",
        "from yellowbrick.cluster import KElbowVisualizer\n",
        "nltk.download('punkt')"
      ],
      "execution_count": null,
      "outputs": [
        {
          "output_type": "stream",
          "text": [
            "[nltk_data] Downloading package punkt to /root/nltk_data...\n",
            "[nltk_data]   Package punkt is already up-to-date!\n"
          ],
          "name": "stdout"
        },
        {
          "output_type": "execute_result",
          "data": {
            "text/plain": [
              "True"
            ]
          },
          "metadata": {
            "tags": []
          },
          "execution_count": 40
        }
      ]
    },
    {
      "cell_type": "code",
      "metadata": {
        "id": "7QvgG6FshCIj",
        "colab": {
          "base_uri": "https://localhost:8080/"
        },
        "outputId": "ec1fa870-f98b-4b1a-d57d-87e6f510d962"
      },
      "source": [
        "from google.colab import drive\n",
        "drive.mount('/content/drive')"
      ],
      "execution_count": null,
      "outputs": [
        {
          "output_type": "stream",
          "text": [
            "Drive already mounted at /content/drive; to attempt to forcibly remount, call drive.mount(\"/content/drive\", force_remount=True).\n"
          ],
          "name": "stdout"
        }
      ]
    },
    {
      "cell_type": "markdown",
      "metadata": {
        "id": "1FReG3O6I2nS"
      },
      "source": [
        ""
      ]
    },
    {
      "cell_type": "code",
      "metadata": {
        "id": "VW22vyxDhxQI",
        "colab": {
          "base_uri": "https://localhost:8080/"
        },
        "outputId": "e8c92d32-9af9-4b4e-b433-a22a664337f5"
      },
      "source": [
        "cd /content/drive/My Drive/Ex_Summ/Data/entertainment"
      ],
      "execution_count": null,
      "outputs": [
        {
          "output_type": "stream",
          "text": [
            "/content/drive/My Drive/Ex_Summ/Data/entertainment\n"
          ],
          "name": "stdout"
        }
      ]
    },
    {
      "cell_type": "code",
      "metadata": {
        "id": "v-hcaNEQjTB2",
        "colab": {
          "base_uri": "https://localhost:8080/"
        },
        "outputId": "4a620e42-e3da-4e55-a4bd-a2ab69b2df23"
      },
      "source": [
        "filename=input(\"Enter File Name: \")  \n",
        "news = open(filename,\"r\")\n",
        "text = news.read()"
      ],
      "execution_count": null,
      "outputs": [
        {
          "output_type": "stream",
          "text": [
            "Enter File Name: 023.txt\n"
          ],
          "name": "stdout"
        }
      ]
    },
    {
      "cell_type": "code",
      "metadata": {
        "id": "WMkvNLy0nxor",
        "colab": {
          "base_uri": "https://localhost:8080/"
        },
        "outputId": "828752b2-6a2c-4588-e336-ee913167911a"
      },
      "source": [
        "sentences = nltk.sent_tokenize(text)\n",
        "sentences"
      ],
      "execution_count": null,
      "outputs": [
        {
          "output_type": "execute_result",
          "data": {
            "text/plain": [
              "[\"Famed music director Viotti dies\\n\\nConductor Marcello Viotti, director of Venice's famous La Fenice Theatre, has died in Germany at 50.\",\n",
              " \"Viotti, director of La Fenice since 2002, conducted at renowned opera houses worldwide including Milan's La Scala and the Vienna State Opera.\",\n",
              " 'His time at La Fenice coincided with its reopening in 2003 after it was destroyed by fire in 1996.',\n",
              " \"He fell into a coma after suffering a stroke during rehearsals for Jules Massenet's Manon last week.\",\n",
              " 'He conducted some of the best orchestras in the world including the Berlin Philharmonic and the English Chamber Orchestra.',\n",
              " 'Viotti was born in Switzerland and studied the piano, cello and singing at the Lausanne Conservatory.',\n",
              " 'His career breakthrough came in 1982 when he won first prize at the Gino Marinuzzi conducting competition in Italy.',\n",
              " \"Viotti established himself as chief conductor of the Turin Opera and went on to become chief conductor of Munich's Radio Orchestra.\",\n",
              " \"At La Fenice Viotti was widely acclaimed for his production of the French composer Massenet's Thais and some of his other productions included Giuseppe Verdi's La Traviata and Richard Strauss's Ariadne auf Naxos.\",\n",
              " \"The last opera he directed at La Fenice was Massenet's Le Roi de Lahore.\",\n",
              " \"Viotti's debut at the New York's Metropolitan Opera came in 2000 with Giacomo Puccini's Madame Butterfly, followed by La Boheme, La Traviata and Fromental Halevy's La Juive.\",\n",
              " 'Giampaolo Vianello, superintendent of the Fenice Theatre Foundation, said: \"I am filled with extreme sadness because, other than a great artist, he is missed as a friend - a main character in the latest joyous times, during the rebirth of our theatre.\"',\n",
              " \"Viotti's last public performance was on 5 February when he conducted Vincenzo Bellini's Norma at the Vienna State Opera.\"]"
            ]
          },
          "metadata": {
            "tags": []
          },
          "execution_count": 46
        }
      ]
    },
    {
      "cell_type": "code",
      "metadata": {
        "id": "ToqHOPEIvWGA",
        "colab": {
          "base_uri": "https://localhost:8080/"
        },
        "outputId": "40edf58e-140c-4926-ce29-c3f076c3110d"
      },
      "source": [
        "art_size = len(sentences)\n",
        "print(art_size)"
      ],
      "execution_count": null,
      "outputs": [
        {
          "output_type": "stream",
          "text": [
            "13\n"
          ],
          "name": "stdout"
        }
      ]
    },
    {
      "cell_type": "markdown",
      "metadata": {
        "id": "wIa2cvhy6Sjo"
      },
      "source": [
        "#BERT Word  Embedinnings"
      ]
    },
    {
      "cell_type": "code",
      "metadata": {
        "id": "C7vk6TrXvlz2",
        "colab": {
          "base_uri": "https://localhost:8080/"
        },
        "outputId": "f5afb636-7fec-4b95-b5b6-23c3022e3cfb"
      },
      "source": [
        "!pip install transformers"
      ],
      "execution_count": null,
      "outputs": [
        {
          "output_type": "stream",
          "text": [
            "Requirement already satisfied: transformers in /usr/local/lib/python3.7/dist-packages (4.5.0)\n",
            "Requirement already satisfied: tokenizers<0.11,>=0.10.1 in /usr/local/lib/python3.7/dist-packages (from transformers) (0.10.2)\n",
            "Requirement already satisfied: packaging in /usr/local/lib/python3.7/dist-packages (from transformers) (20.9)\n",
            "Requirement already satisfied: numpy>=1.17 in /usr/local/lib/python3.7/dist-packages (from transformers) (1.19.5)\n",
            "Requirement already satisfied: filelock in /usr/local/lib/python3.7/dist-packages (from transformers) (3.0.12)\n",
            "Requirement already satisfied: importlib-metadata; python_version < \"3.8\" in /usr/local/lib/python3.7/dist-packages (from transformers) (3.8.1)\n",
            "Requirement already satisfied: regex!=2019.12.17 in /usr/local/lib/python3.7/dist-packages (from transformers) (2019.12.20)\n",
            "Requirement already satisfied: tqdm>=4.27 in /usr/local/lib/python3.7/dist-packages (from transformers) (4.41.1)\n",
            "Requirement already satisfied: sacremoses in /usr/local/lib/python3.7/dist-packages (from transformers) (0.0.44)\n",
            "Requirement already satisfied: requests in /usr/local/lib/python3.7/dist-packages (from transformers) (2.23.0)\n",
            "Requirement already satisfied: pyparsing>=2.0.2 in /usr/local/lib/python3.7/dist-packages (from packaging->transformers) (2.4.7)\n",
            "Requirement already satisfied: zipp>=0.5 in /usr/local/lib/python3.7/dist-packages (from importlib-metadata; python_version < \"3.8\"->transformers) (3.4.1)\n",
            "Requirement already satisfied: typing-extensions>=3.6.4; python_version < \"3.8\" in /usr/local/lib/python3.7/dist-packages (from importlib-metadata; python_version < \"3.8\"->transformers) (3.7.4.3)\n",
            "Requirement already satisfied: joblib in /usr/local/lib/python3.7/dist-packages (from sacremoses->transformers) (1.0.1)\n",
            "Requirement already satisfied: six in /usr/local/lib/python3.7/dist-packages (from sacremoses->transformers) (1.15.0)\n",
            "Requirement already satisfied: click in /usr/local/lib/python3.7/dist-packages (from sacremoses->transformers) (7.1.2)\n",
            "Requirement already satisfied: chardet<4,>=3.0.2 in /usr/local/lib/python3.7/dist-packages (from requests->transformers) (3.0.4)\n",
            "Requirement already satisfied: idna<3,>=2.5 in /usr/local/lib/python3.7/dist-packages (from requests->transformers) (2.10)\n",
            "Requirement already satisfied: urllib3!=1.25.0,!=1.25.1,<1.26,>=1.21.1 in /usr/local/lib/python3.7/dist-packages (from requests->transformers) (1.24.3)\n",
            "Requirement already satisfied: certifi>=2017.4.17 in /usr/local/lib/python3.7/dist-packages (from requests->transformers) (2020.12.5)\n"
          ],
          "name": "stdout"
        }
      ]
    },
    {
      "cell_type": "code",
      "metadata": {
        "id": "Z1IGsPq16Jai"
      },
      "source": [
        "import torch\n",
        "from transformers import BertTokenizer, BertModel\n",
        "import logging\n",
        "import matplotlib.pyplot as plt\n",
        "% matplotlib inline\n",
        "tokenizer = BertTokenizer.from_pretrained('bert-base-uncased')"
      ],
      "execution_count": null,
      "outputs": []
    },
    {
      "cell_type": "code",
      "metadata": {
        "id": "dHzmI1nJ8Ip9",
        "colab": {
          "base_uri": "https://localhost:8080/"
        },
        "outputId": "5b388789-0525-45e4-c4b9-435520a44ade"
      },
      "source": [
        "model = BertModel.from_pretrained('bert-base-uncased',\n",
        "                                  output_hidden_states = True, \n",
        "                                  )\n",
        "\n",
        "model.eval()"
      ],
      "execution_count": null,
      "outputs": [
        {
          "output_type": "execute_result",
          "data": {
            "text/plain": [
              "BertModel(\n",
              "  (embeddings): BertEmbeddings(\n",
              "    (word_embeddings): Embedding(30522, 768, padding_idx=0)\n",
              "    (position_embeddings): Embedding(512, 768)\n",
              "    (token_type_embeddings): Embedding(2, 768)\n",
              "    (LayerNorm): LayerNorm((768,), eps=1e-12, elementwise_affine=True)\n",
              "    (dropout): Dropout(p=0.1, inplace=False)\n",
              "  )\n",
              "  (encoder): BertEncoder(\n",
              "    (layer): ModuleList(\n",
              "      (0): BertLayer(\n",
              "        (attention): BertAttention(\n",
              "          (self): BertSelfAttention(\n",
              "            (query): Linear(in_features=768, out_features=768, bias=True)\n",
              "            (key): Linear(in_features=768, out_features=768, bias=True)\n",
              "            (value): Linear(in_features=768, out_features=768, bias=True)\n",
              "            (dropout): Dropout(p=0.1, inplace=False)\n",
              "          )\n",
              "          (output): BertSelfOutput(\n",
              "            (dense): Linear(in_features=768, out_features=768, bias=True)\n",
              "            (LayerNorm): LayerNorm((768,), eps=1e-12, elementwise_affine=True)\n",
              "            (dropout): Dropout(p=0.1, inplace=False)\n",
              "          )\n",
              "        )\n",
              "        (intermediate): BertIntermediate(\n",
              "          (dense): Linear(in_features=768, out_features=3072, bias=True)\n",
              "        )\n",
              "        (output): BertOutput(\n",
              "          (dense): Linear(in_features=3072, out_features=768, bias=True)\n",
              "          (LayerNorm): LayerNorm((768,), eps=1e-12, elementwise_affine=True)\n",
              "          (dropout): Dropout(p=0.1, inplace=False)\n",
              "        )\n",
              "      )\n",
              "      (1): BertLayer(\n",
              "        (attention): BertAttention(\n",
              "          (self): BertSelfAttention(\n",
              "            (query): Linear(in_features=768, out_features=768, bias=True)\n",
              "            (key): Linear(in_features=768, out_features=768, bias=True)\n",
              "            (value): Linear(in_features=768, out_features=768, bias=True)\n",
              "            (dropout): Dropout(p=0.1, inplace=False)\n",
              "          )\n",
              "          (output): BertSelfOutput(\n",
              "            (dense): Linear(in_features=768, out_features=768, bias=True)\n",
              "            (LayerNorm): LayerNorm((768,), eps=1e-12, elementwise_affine=True)\n",
              "            (dropout): Dropout(p=0.1, inplace=False)\n",
              "          )\n",
              "        )\n",
              "        (intermediate): BertIntermediate(\n",
              "          (dense): Linear(in_features=768, out_features=3072, bias=True)\n",
              "        )\n",
              "        (output): BertOutput(\n",
              "          (dense): Linear(in_features=3072, out_features=768, bias=True)\n",
              "          (LayerNorm): LayerNorm((768,), eps=1e-12, elementwise_affine=True)\n",
              "          (dropout): Dropout(p=0.1, inplace=False)\n",
              "        )\n",
              "      )\n",
              "      (2): BertLayer(\n",
              "        (attention): BertAttention(\n",
              "          (self): BertSelfAttention(\n",
              "            (query): Linear(in_features=768, out_features=768, bias=True)\n",
              "            (key): Linear(in_features=768, out_features=768, bias=True)\n",
              "            (value): Linear(in_features=768, out_features=768, bias=True)\n",
              "            (dropout): Dropout(p=0.1, inplace=False)\n",
              "          )\n",
              "          (output): BertSelfOutput(\n",
              "            (dense): Linear(in_features=768, out_features=768, bias=True)\n",
              "            (LayerNorm): LayerNorm((768,), eps=1e-12, elementwise_affine=True)\n",
              "            (dropout): Dropout(p=0.1, inplace=False)\n",
              "          )\n",
              "        )\n",
              "        (intermediate): BertIntermediate(\n",
              "          (dense): Linear(in_features=768, out_features=3072, bias=True)\n",
              "        )\n",
              "        (output): BertOutput(\n",
              "          (dense): Linear(in_features=3072, out_features=768, bias=True)\n",
              "          (LayerNorm): LayerNorm((768,), eps=1e-12, elementwise_affine=True)\n",
              "          (dropout): Dropout(p=0.1, inplace=False)\n",
              "        )\n",
              "      )\n",
              "      (3): BertLayer(\n",
              "        (attention): BertAttention(\n",
              "          (self): BertSelfAttention(\n",
              "            (query): Linear(in_features=768, out_features=768, bias=True)\n",
              "            (key): Linear(in_features=768, out_features=768, bias=True)\n",
              "            (value): Linear(in_features=768, out_features=768, bias=True)\n",
              "            (dropout): Dropout(p=0.1, inplace=False)\n",
              "          )\n",
              "          (output): BertSelfOutput(\n",
              "            (dense): Linear(in_features=768, out_features=768, bias=True)\n",
              "            (LayerNorm): LayerNorm((768,), eps=1e-12, elementwise_affine=True)\n",
              "            (dropout): Dropout(p=0.1, inplace=False)\n",
              "          )\n",
              "        )\n",
              "        (intermediate): BertIntermediate(\n",
              "          (dense): Linear(in_features=768, out_features=3072, bias=True)\n",
              "        )\n",
              "        (output): BertOutput(\n",
              "          (dense): Linear(in_features=3072, out_features=768, bias=True)\n",
              "          (LayerNorm): LayerNorm((768,), eps=1e-12, elementwise_affine=True)\n",
              "          (dropout): Dropout(p=0.1, inplace=False)\n",
              "        )\n",
              "      )\n",
              "      (4): BertLayer(\n",
              "        (attention): BertAttention(\n",
              "          (self): BertSelfAttention(\n",
              "            (query): Linear(in_features=768, out_features=768, bias=True)\n",
              "            (key): Linear(in_features=768, out_features=768, bias=True)\n",
              "            (value): Linear(in_features=768, out_features=768, bias=True)\n",
              "            (dropout): Dropout(p=0.1, inplace=False)\n",
              "          )\n",
              "          (output): BertSelfOutput(\n",
              "            (dense): Linear(in_features=768, out_features=768, bias=True)\n",
              "            (LayerNorm): LayerNorm((768,), eps=1e-12, elementwise_affine=True)\n",
              "            (dropout): Dropout(p=0.1, inplace=False)\n",
              "          )\n",
              "        )\n",
              "        (intermediate): BertIntermediate(\n",
              "          (dense): Linear(in_features=768, out_features=3072, bias=True)\n",
              "        )\n",
              "        (output): BertOutput(\n",
              "          (dense): Linear(in_features=3072, out_features=768, bias=True)\n",
              "          (LayerNorm): LayerNorm((768,), eps=1e-12, elementwise_affine=True)\n",
              "          (dropout): Dropout(p=0.1, inplace=False)\n",
              "        )\n",
              "      )\n",
              "      (5): BertLayer(\n",
              "        (attention): BertAttention(\n",
              "          (self): BertSelfAttention(\n",
              "            (query): Linear(in_features=768, out_features=768, bias=True)\n",
              "            (key): Linear(in_features=768, out_features=768, bias=True)\n",
              "            (value): Linear(in_features=768, out_features=768, bias=True)\n",
              "            (dropout): Dropout(p=0.1, inplace=False)\n",
              "          )\n",
              "          (output): BertSelfOutput(\n",
              "            (dense): Linear(in_features=768, out_features=768, bias=True)\n",
              "            (LayerNorm): LayerNorm((768,), eps=1e-12, elementwise_affine=True)\n",
              "            (dropout): Dropout(p=0.1, inplace=False)\n",
              "          )\n",
              "        )\n",
              "        (intermediate): BertIntermediate(\n",
              "          (dense): Linear(in_features=768, out_features=3072, bias=True)\n",
              "        )\n",
              "        (output): BertOutput(\n",
              "          (dense): Linear(in_features=3072, out_features=768, bias=True)\n",
              "          (LayerNorm): LayerNorm((768,), eps=1e-12, elementwise_affine=True)\n",
              "          (dropout): Dropout(p=0.1, inplace=False)\n",
              "        )\n",
              "      )\n",
              "      (6): BertLayer(\n",
              "        (attention): BertAttention(\n",
              "          (self): BertSelfAttention(\n",
              "            (query): Linear(in_features=768, out_features=768, bias=True)\n",
              "            (key): Linear(in_features=768, out_features=768, bias=True)\n",
              "            (value): Linear(in_features=768, out_features=768, bias=True)\n",
              "            (dropout): Dropout(p=0.1, inplace=False)\n",
              "          )\n",
              "          (output): BertSelfOutput(\n",
              "            (dense): Linear(in_features=768, out_features=768, bias=True)\n",
              "            (LayerNorm): LayerNorm((768,), eps=1e-12, elementwise_affine=True)\n",
              "            (dropout): Dropout(p=0.1, inplace=False)\n",
              "          )\n",
              "        )\n",
              "        (intermediate): BertIntermediate(\n",
              "          (dense): Linear(in_features=768, out_features=3072, bias=True)\n",
              "        )\n",
              "        (output): BertOutput(\n",
              "          (dense): Linear(in_features=3072, out_features=768, bias=True)\n",
              "          (LayerNorm): LayerNorm((768,), eps=1e-12, elementwise_affine=True)\n",
              "          (dropout): Dropout(p=0.1, inplace=False)\n",
              "        )\n",
              "      )\n",
              "      (7): BertLayer(\n",
              "        (attention): BertAttention(\n",
              "          (self): BertSelfAttention(\n",
              "            (query): Linear(in_features=768, out_features=768, bias=True)\n",
              "            (key): Linear(in_features=768, out_features=768, bias=True)\n",
              "            (value): Linear(in_features=768, out_features=768, bias=True)\n",
              "            (dropout): Dropout(p=0.1, inplace=False)\n",
              "          )\n",
              "          (output): BertSelfOutput(\n",
              "            (dense): Linear(in_features=768, out_features=768, bias=True)\n",
              "            (LayerNorm): LayerNorm((768,), eps=1e-12, elementwise_affine=True)\n",
              "            (dropout): Dropout(p=0.1, inplace=False)\n",
              "          )\n",
              "        )\n",
              "        (intermediate): BertIntermediate(\n",
              "          (dense): Linear(in_features=768, out_features=3072, bias=True)\n",
              "        )\n",
              "        (output): BertOutput(\n",
              "          (dense): Linear(in_features=3072, out_features=768, bias=True)\n",
              "          (LayerNorm): LayerNorm((768,), eps=1e-12, elementwise_affine=True)\n",
              "          (dropout): Dropout(p=0.1, inplace=False)\n",
              "        )\n",
              "      )\n",
              "      (8): BertLayer(\n",
              "        (attention): BertAttention(\n",
              "          (self): BertSelfAttention(\n",
              "            (query): Linear(in_features=768, out_features=768, bias=True)\n",
              "            (key): Linear(in_features=768, out_features=768, bias=True)\n",
              "            (value): Linear(in_features=768, out_features=768, bias=True)\n",
              "            (dropout): Dropout(p=0.1, inplace=False)\n",
              "          )\n",
              "          (output): BertSelfOutput(\n",
              "            (dense): Linear(in_features=768, out_features=768, bias=True)\n",
              "            (LayerNorm): LayerNorm((768,), eps=1e-12, elementwise_affine=True)\n",
              "            (dropout): Dropout(p=0.1, inplace=False)\n",
              "          )\n",
              "        )\n",
              "        (intermediate): BertIntermediate(\n",
              "          (dense): Linear(in_features=768, out_features=3072, bias=True)\n",
              "        )\n",
              "        (output): BertOutput(\n",
              "          (dense): Linear(in_features=3072, out_features=768, bias=True)\n",
              "          (LayerNorm): LayerNorm((768,), eps=1e-12, elementwise_affine=True)\n",
              "          (dropout): Dropout(p=0.1, inplace=False)\n",
              "        )\n",
              "      )\n",
              "      (9): BertLayer(\n",
              "        (attention): BertAttention(\n",
              "          (self): BertSelfAttention(\n",
              "            (query): Linear(in_features=768, out_features=768, bias=True)\n",
              "            (key): Linear(in_features=768, out_features=768, bias=True)\n",
              "            (value): Linear(in_features=768, out_features=768, bias=True)\n",
              "            (dropout): Dropout(p=0.1, inplace=False)\n",
              "          )\n",
              "          (output): BertSelfOutput(\n",
              "            (dense): Linear(in_features=768, out_features=768, bias=True)\n",
              "            (LayerNorm): LayerNorm((768,), eps=1e-12, elementwise_affine=True)\n",
              "            (dropout): Dropout(p=0.1, inplace=False)\n",
              "          )\n",
              "        )\n",
              "        (intermediate): BertIntermediate(\n",
              "          (dense): Linear(in_features=768, out_features=3072, bias=True)\n",
              "        )\n",
              "        (output): BertOutput(\n",
              "          (dense): Linear(in_features=3072, out_features=768, bias=True)\n",
              "          (LayerNorm): LayerNorm((768,), eps=1e-12, elementwise_affine=True)\n",
              "          (dropout): Dropout(p=0.1, inplace=False)\n",
              "        )\n",
              "      )\n",
              "      (10): BertLayer(\n",
              "        (attention): BertAttention(\n",
              "          (self): BertSelfAttention(\n",
              "            (query): Linear(in_features=768, out_features=768, bias=True)\n",
              "            (key): Linear(in_features=768, out_features=768, bias=True)\n",
              "            (value): Linear(in_features=768, out_features=768, bias=True)\n",
              "            (dropout): Dropout(p=0.1, inplace=False)\n",
              "          )\n",
              "          (output): BertSelfOutput(\n",
              "            (dense): Linear(in_features=768, out_features=768, bias=True)\n",
              "            (LayerNorm): LayerNorm((768,), eps=1e-12, elementwise_affine=True)\n",
              "            (dropout): Dropout(p=0.1, inplace=False)\n",
              "          )\n",
              "        )\n",
              "        (intermediate): BertIntermediate(\n",
              "          (dense): Linear(in_features=768, out_features=3072, bias=True)\n",
              "        )\n",
              "        (output): BertOutput(\n",
              "          (dense): Linear(in_features=3072, out_features=768, bias=True)\n",
              "          (LayerNorm): LayerNorm((768,), eps=1e-12, elementwise_affine=True)\n",
              "          (dropout): Dropout(p=0.1, inplace=False)\n",
              "        )\n",
              "      )\n",
              "      (11): BertLayer(\n",
              "        (attention): BertAttention(\n",
              "          (self): BertSelfAttention(\n",
              "            (query): Linear(in_features=768, out_features=768, bias=True)\n",
              "            (key): Linear(in_features=768, out_features=768, bias=True)\n",
              "            (value): Linear(in_features=768, out_features=768, bias=True)\n",
              "            (dropout): Dropout(p=0.1, inplace=False)\n",
              "          )\n",
              "          (output): BertSelfOutput(\n",
              "            (dense): Linear(in_features=768, out_features=768, bias=True)\n",
              "            (LayerNorm): LayerNorm((768,), eps=1e-12, elementwise_affine=True)\n",
              "            (dropout): Dropout(p=0.1, inplace=False)\n",
              "          )\n",
              "        )\n",
              "        (intermediate): BertIntermediate(\n",
              "          (dense): Linear(in_features=768, out_features=3072, bias=True)\n",
              "        )\n",
              "        (output): BertOutput(\n",
              "          (dense): Linear(in_features=3072, out_features=768, bias=True)\n",
              "          (LayerNorm): LayerNorm((768,), eps=1e-12, elementwise_affine=True)\n",
              "          (dropout): Dropout(p=0.1, inplace=False)\n",
              "        )\n",
              "      )\n",
              "    )\n",
              "  )\n",
              "  (pooler): BertPooler(\n",
              "    (dense): Linear(in_features=768, out_features=768, bias=True)\n",
              "    (activation): Tanh()\n",
              "  )\n",
              ")"
            ]
          },
          "metadata": {
            "tags": []
          },
          "execution_count": 50
        }
      ]
    },
    {
      "cell_type": "code",
      "metadata": {
        "id": "Soo14-dB66tS"
      },
      "source": [
        "def BERT_emb(sentence):\n",
        "  marked_text = \"[CLS] \" + sentence + \" [SEP]\"\n",
        "  tokenized_text = tokenizer.tokenize(marked_text)\n",
        "  indexed_tokens = tokenizer.convert_tokens_to_ids(tokenized_text)\n",
        "  segments_ids = [1] * len(tokenized_text)\n",
        "  tokens_tensor = torch.tensor([indexed_tokens])\n",
        "  segments_tensors = torch.tensor([segments_ids])\n",
        "  with torch.no_grad():\n",
        "    outputs = model(tokens_tensor, segments_tensors)\n",
        "    hidden_states = outputs[2]\n",
        "  token_vecs = hidden_states[-2][0]\n",
        "  sentence_embedding = torch.mean(token_vecs, dim=0)\n",
        "  return sentence_embedding.numpy()"
      ],
      "execution_count": null,
      "outputs": []
    },
    {
      "cell_type": "code",
      "metadata": {
        "id": "NMuA0hGo7TLe",
        "colab": {
          "base_uri": "https://localhost:8080/"
        },
        "outputId": "e791f120-1dd0-4baf-c0c7-123f0e970c7e"
      },
      "source": [
        "text = \"Gallery unveils interactive tree.\"\n",
        "emb = BERT_emb(text)\n",
        "emb[0]"
      ],
      "execution_count": null,
      "outputs": [
        {
          "output_type": "execute_result",
          "data": {
            "text/plain": [
              "-0.13614129"
            ]
          },
          "metadata": {
            "tags": []
          },
          "execution_count": 52
        }
      ]
    },
    {
      "cell_type": "code",
      "metadata": {
        "id": "PV9UeSAF88L_",
        "colab": {
          "base_uri": "https://localhost:8080/"
        },
        "outputId": "729a4b6a-0847-4225-e362-70a4a1a01438"
      },
      "source": [
        "print (\"Our final sentence embedding vector of shape:\", len(emb))"
      ],
      "execution_count": null,
      "outputs": [
        {
          "output_type": "stream",
          "text": [
            "Our final sentence embedding vector of shape: 768\n"
          ],
          "name": "stdout"
        }
      ]
    },
    {
      "cell_type": "code",
      "metadata": {
        "id": "vBX_gxy79YIt",
        "colab": {
          "base_uri": "https://localhost:8080/"
        },
        "outputId": "12969a97-9d9f-4ca9-c109-4e774030308e"
      },
      "source": [
        "emb_Matrix = []\n",
        "for sentence in sentences:\n",
        "  emb = BERT_emb(sentence)\n",
        "  emb_Matrix.append(emb)\n",
        "print(len(emb_Matrix[0]))\n",
        "print(len(emb_Matrix))"
      ],
      "execution_count": null,
      "outputs": [
        {
          "output_type": "stream",
          "text": [
            "768\n",
            "13\n"
          ],
          "name": "stdout"
        }
      ]
    },
    {
      "cell_type": "markdown",
      "metadata": {
        "id": "RTxbEtnDZvvV"
      },
      "source": [
        "#Visualization"
      ]
    },
    {
      "cell_type": "code",
      "metadata": {
        "id": "WL8X_Ii_YdzN"
      },
      "source": [
        "from scipy.spatial.distance import pdist,squareform\n",
        "array_similarity = squareform(pdist(emb_Matrix, metric='euclidean'))"
      ],
      "execution_count": null,
      "outputs": []
    },
    {
      "cell_type": "code",
      "metadata": {
        "colab": {
          "base_uri": "https://localhost:8080/",
          "height": 297
        },
        "id": "_6hj5gddZQqX",
        "outputId": "42a96a24-403c-4d7c-85ff-9d4a2946de81"
      },
      "source": [
        "import seaborn as sns\n",
        "import matplotlib.pyplot as plt\n",
        "\n",
        "sns.heatmap(array_similarity)\n",
        "plt.title('visualizing sentence semantic similarity')"
      ],
      "execution_count": null,
      "outputs": [
        {
          "output_type": "execute_result",
          "data": {
            "text/plain": [
              "Text(0.5, 1.0, 'visualizing sentence semantic similarity')"
            ]
          },
          "metadata": {
            "tags": []
          },
          "execution_count": 56
        },
        {
          "output_type": "display_data",
          "data": {
            "image/png": "[encoded data removed]",
            "text/plain": [
              "<Figure size 432x288 with 2 Axes>"
            ]
          },
          "metadata": {
            "tags": [],
            "needs_background": "light"
          }
        }
      ]
    },
    {
      "cell_type": "code",
      "metadata": {
        "colab": {
          "base_uri": "https://localhost:8080/",
          "height": 34
        },
        "id": "_uBf_iPwl5Ni",
        "outputId": "afc8e952-5599-4b53-851b-3860ea2bef03"
      },
      "source": [
        "plt.savefig('/content/drive/My Drive/Ex_Summ/Data/ss02.png')"
      ],
      "execution_count": null,
      "outputs": [
        {
          "output_type": "display_data",
          "data": {
            "text/plain": [
              "<Figure size 432x288 with 0 Axes>"
            ]
          },
          "metadata": {
            "tags": []
          }
        }
      ]
    },
    {
      "cell_type": "markdown",
      "metadata": {
        "id": "zWrXf-zervhE"
      },
      "source": [
        "#K-Means Clustering"
      ]
    },
    {
      "cell_type": "code",
      "metadata": {
        "id": "6ymShn5v-bYE"
      },
      "source": [
        "emb_sentences = pd.DataFrame(emb_Matrix)"
      ],
      "execution_count": null,
      "outputs": []
    },
    {
      "cell_type": "code",
      "metadata": {
        "id": "PTm943ScvJ7G",
        "colab": {
          "base_uri": "https://localhost:8080/",
          "height": 253
        },
        "outputId": "a0c69383-c236-4956-9921-9b409f86c25a"
      },
      "source": [
        "emb_sentences.head()"
      ],
      "execution_count": null,
      "outputs": [
        {
          "output_type": "execute_result",
          "data": {
            "text/html": [
              "<div>\n",
              "<style scoped>\n",
              "    .dataframe tbody tr th:only-of-type {\n",
              "        vertical-align: middle;\n",
              "    }\n",
              "\n",
              "    .dataframe tbody tr th {\n",
              "        vertical-align: top;\n",
              "    }\n",
              "\n",
              "    .dataframe thead th {\n",
              "        text-align: right;\n",
              "    }\n",
              "</style>\n",
              "<table border=\"1\" class=\"dataframe\">\n",
              "  <thead>\n",
              "    <tr style=\"text-align: right;\">\n",
              "      <th></th>\n",
              "      <th>0</th>\n",
              "      <th>1</th>\n",
              "      <th>2</th>\n",
              "      <th>3</th>\n",
              "      <th>4</th>\n",
              "      <th>5</th>\n",
              "      <th>6</th>\n",
              "      <th>7</th>\n",
              "      <th>8</th>\n",
              "      <th>9</th>\n",
              "      <th>10</th>\n",
              "      <th>11</th>\n",
              "      <th>12</th>\n",
              "      <th>13</th>\n",
              "      <th>14</th>\n",
              "      <th>15</th>\n",
              "      <th>16</th>\n",
              "      <th>17</th>\n",
              "      <th>18</th>\n",
              "      <th>19</th>\n",
              "      <th>20</th>\n",
              "      <th>21</th>\n",
              "      <th>22</th>\n",
              "      <th>23</th>\n",
              "      <th>24</th>\n",
              "      <th>25</th>\n",
              "      <th>26</th>\n",
              "      <th>27</th>\n",
              "      <th>28</th>\n",
              "      <th>29</th>\n",
              "      <th>30</th>\n",
              "      <th>31</th>\n",
              "      <th>32</th>\n",
              "      <th>33</th>\n",
              "      <th>34</th>\n",
              "      <th>35</th>\n",
              "      <th>36</th>\n",
              "      <th>37</th>\n",
              "      <th>38</th>\n",
              "      <th>39</th>\n",
              "      <th>...</th>\n",
              "      <th>728</th>\n",
              "      <th>729</th>\n",
              "      <th>730</th>\n",
              "      <th>731</th>\n",
              "      <th>732</th>\n",
              "      <th>733</th>\n",
              "      <th>734</th>\n",
              "      <th>735</th>\n",
              "      <th>736</th>\n",
              "      <th>737</th>\n",
              "      <th>738</th>\n",
              "      <th>739</th>\n",
              "      <th>740</th>\n",
              "      <th>741</th>\n",
              "      <th>742</th>\n",
              "      <th>743</th>\n",
              "      <th>744</th>\n",
              "      <th>745</th>\n",
              "      <th>746</th>\n",
              "      <th>747</th>\n",
              "      <th>748</th>\n",
              "      <th>749</th>\n",
              "      <th>750</th>\n",
              "      <th>751</th>\n",
              "      <th>752</th>\n",
              "      <th>753</th>\n",
              "      <th>754</th>\n",
              "      <th>755</th>\n",
              "      <th>756</th>\n",
              "      <th>757</th>\n",
              "      <th>758</th>\n",
              "      <th>759</th>\n",
              "      <th>760</th>\n",
              "      <th>761</th>\n",
              "      <th>762</th>\n",
              "      <th>763</th>\n",
              "      <th>764</th>\n",
              "      <th>765</th>\n",
              "      <th>766</th>\n",
              "      <th>767</th>\n",
              "    </tr>\n",
              "  </thead>\n",
              "  <tbody>\n",
              "    <tr>\n",
              "      <th>0</th>\n",
              "      <td>-0.143785</td>\n",
              "      <td>-0.002867</td>\n",
              "      <td>0.830029</td>\n",
              "      <td>-0.634028</td>\n",
              "      <td>-0.006272</td>\n",
              "      <td>-0.174886</td>\n",
              "      <td>-0.037025</td>\n",
              "      <td>0.570969</td>\n",
              "      <td>0.018755</td>\n",
              "      <td>-0.159353</td>\n",
              "      <td>-0.034033</td>\n",
              "      <td>-0.490067</td>\n",
              "      <td>0.070393</td>\n",
              "      <td>0.457877</td>\n",
              "      <td>-0.204329</td>\n",
              "      <td>0.511517</td>\n",
              "      <td>0.068630</td>\n",
              "      <td>-0.096759</td>\n",
              "      <td>-0.478556</td>\n",
              "      <td>-0.023198</td>\n",
              "      <td>0.038252</td>\n",
              "      <td>0.264795</td>\n",
              "      <td>0.058847</td>\n",
              "      <td>0.557685</td>\n",
              "      <td>0.008909</td>\n",
              "      <td>-0.078965</td>\n",
              "      <td>-0.280903</td>\n",
              "      <td>-0.028268</td>\n",
              "      <td>0.040021</td>\n",
              "      <td>0.116738</td>\n",
              "      <td>0.097507</td>\n",
              "      <td>0.075026</td>\n",
              "      <td>0.298647</td>\n",
              "      <td>0.250330</td>\n",
              "      <td>-0.172875</td>\n",
              "      <td>-0.461163</td>\n",
              "      <td>0.322825</td>\n",
              "      <td>-0.011986</td>\n",
              "      <td>0.018787</td>\n",
              "      <td>0.115114</td>\n",
              "      <td>...</td>\n",
              "      <td>-0.246376</td>\n",
              "      <td>-0.837186</td>\n",
              "      <td>-0.210558</td>\n",
              "      <td>-0.384532</td>\n",
              "      <td>-0.335349</td>\n",
              "      <td>-0.200237</td>\n",
              "      <td>0.208618</td>\n",
              "      <td>-0.065485</td>\n",
              "      <td>-0.010875</td>\n",
              "      <td>0.156140</td>\n",
              "      <td>-0.158124</td>\n",
              "      <td>0.818484</td>\n",
              "      <td>-0.197235</td>\n",
              "      <td>-0.019731</td>\n",
              "      <td>-0.449693</td>\n",
              "      <td>0.263318</td>\n",
              "      <td>0.055482</td>\n",
              "      <td>-0.094288</td>\n",
              "      <td>-0.216536</td>\n",
              "      <td>-0.180158</td>\n",
              "      <td>-0.227458</td>\n",
              "      <td>0.472537</td>\n",
              "      <td>0.181258</td>\n",
              "      <td>-0.199818</td>\n",
              "      <td>0.656865</td>\n",
              "      <td>-0.044748</td>\n",
              "      <td>-0.159893</td>\n",
              "      <td>0.225204</td>\n",
              "      <td>0.065465</td>\n",
              "      <td>-0.063469</td>\n",
              "      <td>0.056792</td>\n",
              "      <td>0.155117</td>\n",
              "      <td>0.689316</td>\n",
              "      <td>0.306131</td>\n",
              "      <td>0.566671</td>\n",
              "      <td>-0.145850</td>\n",
              "      <td>-0.410457</td>\n",
              "      <td>-0.218220</td>\n",
              "      <td>-0.043830</td>\n",
              "      <td>0.211640</td>\n",
              "    </tr>\n",
              "    <tr>\n",
              "      <th>1</th>\n",
              "      <td>-0.319877</td>\n",
              "      <td>0.020022</td>\n",
              "      <td>0.504869</td>\n",
              "      <td>-1.036966</td>\n",
              "      <td>-0.081475</td>\n",
              "      <td>-0.197848</td>\n",
              "      <td>-0.221577</td>\n",
              "      <td>0.427205</td>\n",
              "      <td>-0.397984</td>\n",
              "      <td>0.067870</td>\n",
              "      <td>-0.049541</td>\n",
              "      <td>-0.572025</td>\n",
              "      <td>0.169643</td>\n",
              "      <td>0.415886</td>\n",
              "      <td>0.146217</td>\n",
              "      <td>0.680513</td>\n",
              "      <td>0.611527</td>\n",
              "      <td>-0.324866</td>\n",
              "      <td>-0.429839</td>\n",
              "      <td>-0.390367</td>\n",
              "      <td>-0.024254</td>\n",
              "      <td>0.114576</td>\n",
              "      <td>0.152912</td>\n",
              "      <td>0.983136</td>\n",
              "      <td>-0.285729</td>\n",
              "      <td>-0.123055</td>\n",
              "      <td>-0.315710</td>\n",
              "      <td>-0.028317</td>\n",
              "      <td>-0.264192</td>\n",
              "      <td>0.131995</td>\n",
              "      <td>0.065682</td>\n",
              "      <td>0.282990</td>\n",
              "      <td>0.324636</td>\n",
              "      <td>-0.014835</td>\n",
              "      <td>-0.006523</td>\n",
              "      <td>-0.053094</td>\n",
              "      <td>0.331240</td>\n",
              "      <td>-0.039072</td>\n",
              "      <td>-0.147002</td>\n",
              "      <td>-0.514434</td>\n",
              "      <td>...</td>\n",
              "      <td>0.035118</td>\n",
              "      <td>-0.734397</td>\n",
              "      <td>0.010976</td>\n",
              "      <td>-0.315724</td>\n",
              "      <td>0.052296</td>\n",
              "      <td>0.139190</td>\n",
              "      <td>0.385074</td>\n",
              "      <td>-0.079344</td>\n",
              "      <td>-0.360272</td>\n",
              "      <td>0.575390</td>\n",
              "      <td>-0.241097</td>\n",
              "      <td>0.803480</td>\n",
              "      <td>-0.148073</td>\n",
              "      <td>0.049212</td>\n",
              "      <td>-0.330106</td>\n",
              "      <td>0.281733</td>\n",
              "      <td>-0.082773</td>\n",
              "      <td>0.129937</td>\n",
              "      <td>-0.092428</td>\n",
              "      <td>-0.254192</td>\n",
              "      <td>-0.445129</td>\n",
              "      <td>0.503620</td>\n",
              "      <td>-0.267078</td>\n",
              "      <td>-0.172942</td>\n",
              "      <td>0.246405</td>\n",
              "      <td>0.012484</td>\n",
              "      <td>0.157301</td>\n",
              "      <td>-0.163205</td>\n",
              "      <td>-0.125503</td>\n",
              "      <td>-0.115651</td>\n",
              "      <td>0.055411</td>\n",
              "      <td>-0.055104</td>\n",
              "      <td>0.592963</td>\n",
              "      <td>0.043050</td>\n",
              "      <td>0.078618</td>\n",
              "      <td>-0.112420</td>\n",
              "      <td>-0.014356</td>\n",
              "      <td>0.070685</td>\n",
              "      <td>0.045187</td>\n",
              "      <td>0.212186</td>\n",
              "    </tr>\n",
              "    <tr>\n",
              "      <th>2</th>\n",
              "      <td>-0.197623</td>\n",
              "      <td>-0.436448</td>\n",
              "      <td>-0.192796</td>\n",
              "      <td>-0.626506</td>\n",
              "      <td>0.432743</td>\n",
              "      <td>-0.031314</td>\n",
              "      <td>-0.014787</td>\n",
              "      <td>0.709196</td>\n",
              "      <td>-0.150916</td>\n",
              "      <td>-0.000497</td>\n",
              "      <td>0.254478</td>\n",
              "      <td>-0.624980</td>\n",
              "      <td>-0.234584</td>\n",
              "      <td>0.396208</td>\n",
              "      <td>-0.081927</td>\n",
              "      <td>0.504695</td>\n",
              "      <td>0.342728</td>\n",
              "      <td>-0.311517</td>\n",
              "      <td>-0.244712</td>\n",
              "      <td>-0.006331</td>\n",
              "      <td>-0.345677</td>\n",
              "      <td>-0.095366</td>\n",
              "      <td>-0.480952</td>\n",
              "      <td>0.456420</td>\n",
              "      <td>0.452239</td>\n",
              "      <td>0.241005</td>\n",
              "      <td>-0.249627</td>\n",
              "      <td>-0.230947</td>\n",
              "      <td>-0.097992</td>\n",
              "      <td>0.091574</td>\n",
              "      <td>0.592924</td>\n",
              "      <td>-0.241856</td>\n",
              "      <td>0.195069</td>\n",
              "      <td>-0.515655</td>\n",
              "      <td>-0.045208</td>\n",
              "      <td>-0.054334</td>\n",
              "      <td>0.389527</td>\n",
              "      <td>0.067624</td>\n",
              "      <td>-0.118877</td>\n",
              "      <td>0.330728</td>\n",
              "      <td>...</td>\n",
              "      <td>-0.266601</td>\n",
              "      <td>-0.686790</td>\n",
              "      <td>0.371765</td>\n",
              "      <td>-0.269111</td>\n",
              "      <td>0.204312</td>\n",
              "      <td>-0.711984</td>\n",
              "      <td>0.053018</td>\n",
              "      <td>-0.036362</td>\n",
              "      <td>0.054371</td>\n",
              "      <td>0.153772</td>\n",
              "      <td>0.245131</td>\n",
              "      <td>0.227925</td>\n",
              "      <td>-0.009991</td>\n",
              "      <td>0.054740</td>\n",
              "      <td>-0.322595</td>\n",
              "      <td>0.056344</td>\n",
              "      <td>-0.283057</td>\n",
              "      <td>-0.148406</td>\n",
              "      <td>0.427165</td>\n",
              "      <td>0.077012</td>\n",
              "      <td>-0.444472</td>\n",
              "      <td>0.286634</td>\n",
              "      <td>0.004861</td>\n",
              "      <td>-0.222506</td>\n",
              "      <td>0.420780</td>\n",
              "      <td>-0.169380</td>\n",
              "      <td>0.038460</td>\n",
              "      <td>0.169091</td>\n",
              "      <td>0.199697</td>\n",
              "      <td>-0.281474</td>\n",
              "      <td>-0.054045</td>\n",
              "      <td>-0.484868</td>\n",
              "      <td>-0.328114</td>\n",
              "      <td>0.219385</td>\n",
              "      <td>0.618521</td>\n",
              "      <td>-0.144901</td>\n",
              "      <td>-0.187731</td>\n",
              "      <td>0.136785</td>\n",
              "      <td>0.037302</td>\n",
              "      <td>0.580442</td>\n",
              "    </tr>\n",
              "    <tr>\n",
              "      <th>3</th>\n",
              "      <td>-0.107770</td>\n",
              "      <td>-0.132095</td>\n",
              "      <td>-0.289453</td>\n",
              "      <td>-0.540420</td>\n",
              "      <td>0.352394</td>\n",
              "      <td>-0.317694</td>\n",
              "      <td>0.222445</td>\n",
              "      <td>0.685462</td>\n",
              "      <td>-0.093629</td>\n",
              "      <td>0.140991</td>\n",
              "      <td>0.187261</td>\n",
              "      <td>-0.174239</td>\n",
              "      <td>-0.095030</td>\n",
              "      <td>0.365468</td>\n",
              "      <td>-0.001611</td>\n",
              "      <td>0.685414</td>\n",
              "      <td>0.416414</td>\n",
              "      <td>-0.377994</td>\n",
              "      <td>-0.305168</td>\n",
              "      <td>-0.207150</td>\n",
              "      <td>-0.287034</td>\n",
              "      <td>0.301280</td>\n",
              "      <td>-0.702736</td>\n",
              "      <td>0.339981</td>\n",
              "      <td>0.353553</td>\n",
              "      <td>-0.201284</td>\n",
              "      <td>-0.217782</td>\n",
              "      <td>0.367076</td>\n",
              "      <td>-0.215092</td>\n",
              "      <td>0.088126</td>\n",
              "      <td>-0.092546</td>\n",
              "      <td>0.083610</td>\n",
              "      <td>0.069407</td>\n",
              "      <td>-0.330040</td>\n",
              "      <td>0.208084</td>\n",
              "      <td>-0.019174</td>\n",
              "      <td>0.076561</td>\n",
              "      <td>-0.110935</td>\n",
              "      <td>-0.257211</td>\n",
              "      <td>0.007281</td>\n",
              "      <td>...</td>\n",
              "      <td>-0.044016</td>\n",
              "      <td>-0.478376</td>\n",
              "      <td>0.335947</td>\n",
              "      <td>0.087988</td>\n",
              "      <td>-0.154042</td>\n",
              "      <td>-0.067897</td>\n",
              "      <td>-0.001261</td>\n",
              "      <td>-0.220254</td>\n",
              "      <td>0.422285</td>\n",
              "      <td>0.084761</td>\n",
              "      <td>-0.058576</td>\n",
              "      <td>0.669024</td>\n",
              "      <td>-0.279001</td>\n",
              "      <td>0.031348</td>\n",
              "      <td>-0.206077</td>\n",
              "      <td>0.104984</td>\n",
              "      <td>0.730766</td>\n",
              "      <td>-0.103983</td>\n",
              "      <td>-0.334893</td>\n",
              "      <td>0.071510</td>\n",
              "      <td>-0.404368</td>\n",
              "      <td>0.622895</td>\n",
              "      <td>0.227217</td>\n",
              "      <td>-0.274955</td>\n",
              "      <td>0.423199</td>\n",
              "      <td>-0.271659</td>\n",
              "      <td>-0.082128</td>\n",
              "      <td>-0.020837</td>\n",
              "      <td>-0.014191</td>\n",
              "      <td>-0.490369</td>\n",
              "      <td>-0.073076</td>\n",
              "      <td>-0.574992</td>\n",
              "      <td>0.308985</td>\n",
              "      <td>-0.292240</td>\n",
              "      <td>0.150901</td>\n",
              "      <td>0.374248</td>\n",
              "      <td>-0.202548</td>\n",
              "      <td>-0.270814</td>\n",
              "      <td>-0.220839</td>\n",
              "      <td>0.127674</td>\n",
              "    </tr>\n",
              "    <tr>\n",
              "      <th>4</th>\n",
              "      <td>-0.315379</td>\n",
              "      <td>0.174251</td>\n",
              "      <td>-0.071889</td>\n",
              "      <td>-0.599465</td>\n",
              "      <td>0.023909</td>\n",
              "      <td>-0.579540</td>\n",
              "      <td>-0.776897</td>\n",
              "      <td>0.508723</td>\n",
              "      <td>-0.541970</td>\n",
              "      <td>0.174540</td>\n",
              "      <td>0.068720</td>\n",
              "      <td>-0.497355</td>\n",
              "      <td>0.028592</td>\n",
              "      <td>0.526679</td>\n",
              "      <td>-0.209888</td>\n",
              "      <td>0.437570</td>\n",
              "      <td>-0.054252</td>\n",
              "      <td>-0.527403</td>\n",
              "      <td>-0.550416</td>\n",
              "      <td>-0.378013</td>\n",
              "      <td>-0.183387</td>\n",
              "      <td>0.645463</td>\n",
              "      <td>0.006523</td>\n",
              "      <td>0.706343</td>\n",
              "      <td>0.019547</td>\n",
              "      <td>-0.028588</td>\n",
              "      <td>-0.631901</td>\n",
              "      <td>0.264813</td>\n",
              "      <td>-0.198782</td>\n",
              "      <td>-0.299628</td>\n",
              "      <td>-0.052640</td>\n",
              "      <td>0.200667</td>\n",
              "      <td>0.053357</td>\n",
              "      <td>-0.076478</td>\n",
              "      <td>-0.423411</td>\n",
              "      <td>-0.024990</td>\n",
              "      <td>0.261439</td>\n",
              "      <td>0.162899</td>\n",
              "      <td>-0.361147</td>\n",
              "      <td>-0.015800</td>\n",
              "      <td>...</td>\n",
              "      <td>-0.250513</td>\n",
              "      <td>-0.713621</td>\n",
              "      <td>0.148333</td>\n",
              "      <td>-0.020156</td>\n",
              "      <td>0.243475</td>\n",
              "      <td>-0.020908</td>\n",
              "      <td>0.452152</td>\n",
              "      <td>0.231246</td>\n",
              "      <td>-0.017841</td>\n",
              "      <td>0.723179</td>\n",
              "      <td>-0.301054</td>\n",
              "      <td>0.465333</td>\n",
              "      <td>-0.140243</td>\n",
              "      <td>0.045763</td>\n",
              "      <td>-0.321096</td>\n",
              "      <td>0.098698</td>\n",
              "      <td>0.216965</td>\n",
              "      <td>-0.281665</td>\n",
              "      <td>-0.584941</td>\n",
              "      <td>-0.532864</td>\n",
              "      <td>-0.197879</td>\n",
              "      <td>0.770382</td>\n",
              "      <td>0.030075</td>\n",
              "      <td>-0.113293</td>\n",
              "      <td>0.377719</td>\n",
              "      <td>-0.048276</td>\n",
              "      <td>0.249950</td>\n",
              "      <td>-0.017105</td>\n",
              "      <td>-0.136785</td>\n",
              "      <td>0.381782</td>\n",
              "      <td>-0.012145</td>\n",
              "      <td>-0.218176</td>\n",
              "      <td>0.539427</td>\n",
              "      <td>-0.361549</td>\n",
              "      <td>0.043284</td>\n",
              "      <td>-0.121204</td>\n",
              "      <td>0.005002</td>\n",
              "      <td>0.038996</td>\n",
              "      <td>0.303039</td>\n",
              "      <td>-0.042529</td>\n",
              "    </tr>\n",
              "  </tbody>\n",
              "</table>\n",
              "<p>5 rows × 768 columns</p>\n",
              "</div>"
            ],
            "text/plain": [
              "        0         1         2    ...       765       766       767\n",
              "0 -0.143785 -0.002867  0.830029  ... -0.218220 -0.043830  0.211640\n",
              "1 -0.319877  0.020022  0.504869  ...  0.070685  0.045187  0.212186\n",
              "2 -0.197623 -0.436448 -0.192796  ...  0.136785  0.037302  0.580442\n",
              "3 -0.107770 -0.132095 -0.289453  ... -0.270814 -0.220839  0.127674\n",
              "4 -0.315379  0.174251 -0.071889  ...  0.038996  0.303039 -0.042529\n",
              "\n",
              "[5 rows x 768 columns]"
            ]
          },
          "metadata": {
            "tags": []
          },
          "execution_count": 59
        }
      ]
    },
    {
      "cell_type": "markdown",
      "metadata": {
        "id": "ulddjiyctzd6"
      },
      "source": [
        "#Understanding the Data"
      ]
    },
    {
      "cell_type": "code",
      "metadata": {
        "colab": {
          "base_uri": "https://localhost:8080/"
        },
        "id": "HCgwuNsYsYCY",
        "outputId": "a0a6759f-5ec0-4117-c8b7-afe1c772fb5e"
      },
      "source": [
        "from sklearn.decomposition import PCA\n",
        "\n",
        "pca = PCA(n_components=2)\n",
        "pca.fit(emb_sentences)\n",
        "print(np.sum(pca.explained_variance_ratio_))"
      ],
      "execution_count": null,
      "outputs": [
        {
          "output_type": "stream",
          "text": [
            "0.3760785937369431\n"
          ],
          "name": "stdout"
        }
      ]
    },
    {
      "cell_type": "code",
      "metadata": {
        "id": "ASEl-I3Sso-x"
      },
      "source": [
        "pca_sentence_features = pca.transform(emb_sentences)"
      ],
      "execution_count": null,
      "outputs": []
    },
    {
      "cell_type": "code",
      "metadata": {
        "colab": {
          "base_uri": "https://localhost:8080/",
          "height": 623
        },
        "id": "mTdCO38ls97F",
        "outputId": "96ae856d-ea8c-4e17-ce22-eed7bdadaf57"
      },
      "source": [
        "plt.figure(figsize=(10,10))\n",
        "for i in range(len(pca_sentence_features)):\n",
        "  plt.scatter(pca_sentence_features[i,0],pca_sentence_features[i,1])\n",
        "  plt.annotate('sentence '+ str(i),(pca_sentence_features[i,0],pca_sentence_features[i,1]))\n",
        "plt.title('2D PCA projection of embedded sentences from BERT')"
      ],
      "execution_count": null,
      "outputs": [
        {
          "output_type": "execute_result",
          "data": {
            "text/plain": [
              "Text(0.5, 1.0, '2D PCA projection of embedded sentences from BERT')"
            ]
          },
          "metadata": {
            "tags": []
          },
          "execution_count": 62
        },
        {
          "output_type": "display_data",
          "data": {
            "image/png": "[encoded data removed]",
            "text/plain": [
              "<Figure size 720x720 with 1 Axes>"
            ]
          },
          "metadata": {
            "tags": [],
            "needs_background": "light"
          }
        }
      ]
    },
    {
      "cell_type": "markdown",
      "metadata": {
        "id": "u5fBIyV6xhBa"
      },
      "source": [
        "##Elbow Method"
      ]
    },
    {
      "cell_type": "code",
      "metadata": {
        "id": "b14edb6tMZHN"
      },
      "source": [
        "def Elbow_Method(emb_sentences):\n",
        "  Sum_of_squared_distances = []\n",
        "  K = range(1,art_size)\n",
        "  for k in K:\n",
        "    km = KMeans(n_clusters=k)\n",
        "    km = km.fit(emb_sentences)\n",
        "    Sum_of_squared_distances.append(km.inertia_)\n",
        "  plt.plot(K, Sum_of_squared_distances, 'bx-')\n",
        "  plt.xlabel('k')\n",
        "  plt.ylabel('Sum_of_squared_distances')\n",
        "  plt.title('Elbow Method For Optimal k')\n",
        "  plt.show()"
      ],
      "execution_count": null,
      "outputs": []
    },
    {
      "cell_type": "code",
      "metadata": {
        "id": "IA6XKJjw1b6g",
        "colab": {
          "base_uri": "https://localhost:8080/",
          "height": 294
        },
        "outputId": "971f69aa-ef14-4e3b-e2e4-4c60905c6254"
      },
      "source": [
        "Elbow_Method(emb_sentences)"
      ],
      "execution_count": null,
      "outputs": [
        {
          "output_type": "display_data",
          "data": {
            "image/png": "[encoded data removed]",
            "text/plain": [
              "<Figure size 432x288 with 1 Axes>"
            ]
          },
          "metadata": {
            "tags": [],
            "needs_background": "light"
          }
        }
      ]
    },
    {
      "cell_type": "markdown",
      "metadata": {
        "id": "jVSJOksqxoyX"
      },
      "source": [
        "##Silhouette Method\n",
        "\n",
        "\n"
      ]
    },
    {
      "cell_type": "code",
      "metadata": {
        "colab": {
          "base_uri": "https://localhost:8080/"
        },
        "id": "7Pb8jTJrMgAZ",
        "outputId": "4ba6232b-1665-4fcc-9477-1efdce1748f8"
      },
      "source": [
        "from sklearn.cluster import KMeans\n",
        "from sklearn.metrics import silhouette_score\n",
        "import numpy as np\n",
        "\n",
        "# Use silhouette score to find optimal number of clusters to segment the data\n",
        "num_clusters = np.arange(2,art_size)\n",
        "results = {}\n",
        "for size in num_clusters:\n",
        "    model = KMeans(n_clusters = size).fit(emb_sentences)\n",
        "    predictions = model.predict(emb_sentences)\n",
        "    results[size] = silhouette_score(emb_sentences, predictions)\n",
        "\n",
        "best_size = max(results, key=results.get)\n",
        "print(best_size)"
      ],
      "execution_count": null,
      "outputs": [
        {
          "output_type": "stream",
          "text": [
            "2\n"
          ],
          "name": "stdout"
        }
      ]
    },
    {
      "cell_type": "markdown",
      "metadata": {
        "id": "MzPUdV5lx6Mf"
      },
      "source": [
        "##K-Mean Model"
      ]
    },
    {
      "cell_type": "code",
      "metadata": {
        "id": "fQE0XVKPMkBI"
      },
      "source": [
        "#num_clusters = 4\n",
        "def KMean_Clustering(df):\n",
        "    num_clusters = int(input(\"Enter Elbow point form graph: \"))\n",
        "    km = KMeans(n_clusters=num_clusters)\n",
        "    km.fit(df)\n",
        "    #plt.scatter(emb_sentences, c=km.labels_, cmap='rainbow')\n",
        "    clusters = km.labels_.tolist()   \n",
        "    centers = km.cluster_centers_\n",
        "\n",
        "    return clusters, centers"
      ],
      "execution_count": null,
      "outputs": []
    },
    {
      "cell_type": "code",
      "metadata": {
        "id": "Sx85SBC94UxG",
        "colab": {
          "base_uri": "https://localhost:8080/"
        },
        "outputId": "91cec8a6-bcb5-4dac-d3de-029aee139b2a"
      },
      "source": [
        "clusters, centers = KMean_Clustering(emb_sentences)\n",
        "print(clusters)\n",
        "print(centers)"
      ],
      "execution_count": null,
      "outputs": [
        {
          "output_type": "stream",
          "text": [
            "Enter Elbow point form graph: 3\n",
            "[2, 2, 0, 1, 2, 2, 2, 2, 1, 1, 1, 0, 1]\n",
            "[[-0.29536652 -0.23433813  0.32292406 ... -0.17019452  0.11631446\n",
            "   0.30811334]\n",
            " [-0.24906206 -0.10129747  0.04396008 ...  0.05257991 -0.07642751\n",
            "   0.17435527]\n",
            " [-0.31453223  0.04519706  0.32734626 ...  0.04379937 -0.05261581\n",
            "   0.03845191]]\n"
          ],
          "name": "stdout"
        }
      ]
    },
    {
      "cell_type": "code",
      "metadata": {
        "id": "pf4jBsK-ix2P",
        "colab": {
          "base_uri": "https://localhost:8080/"
        },
        "outputId": "e577d595-355c-478b-a6ed-d901520d1a29"
      },
      "source": [
        "print(emb_Matrix[0])"
      ],
      "execution_count": null,
      "outputs": [
        {
          "output_type": "stream",
          "text": [
            "[-1.43785149e-01 -2.86701089e-03  8.30029428e-01 -6.34027600e-01\n",
            " -6.27219677e-03 -1.74886391e-01 -3.70248184e-02  5.70969343e-01\n",
            "  1.87554490e-02 -1.59352958e-01 -3.40327695e-02 -4.90067124e-01\n",
            "  7.03933910e-02  4.57877100e-01 -2.04329461e-01  5.11517048e-01\n",
            "  6.86298236e-02 -9.67589319e-02 -4.78555620e-01 -2.31978334e-02\n",
            "  3.82524058e-02  2.64794916e-01  5.88470250e-02  5.57684958e-01\n",
            "  8.90862569e-03 -7.89645836e-02 -2.80902714e-01 -2.82683522e-02\n",
            "  4.00210917e-02  1.16738021e-01  9.75070298e-02  7.50255138e-02\n",
            "  2.98646629e-01  2.50329643e-01 -1.72874540e-01 -4.61162925e-01\n",
            "  3.22824925e-01 -1.19860973e-02  1.87867731e-02  1.15113512e-01\n",
            " -1.44733608e-01 -4.54163730e-01  6.75085306e-01  1.48659080e-01\n",
            "  1.12962320e-01  3.59827042e-01  3.10502015e-02 -8.48506689e-02\n",
            "  5.34667552e-01 -2.25524247e-01 -4.56597567e-01  2.85002679e-01\n",
            " -2.98299074e-01 -8.03312287e-05  4.73156571e-02  2.02335179e-01\n",
            " -3.11275899e-01 -6.07385159e-01  2.33745322e-01 -1.01943240e-02\n",
            " -1.86457992e-01  5.48678994e-01  4.59907830e-01 -4.67852712e-01\n",
            " -1.57196581e-01  2.19108343e-01  2.20888779e-01  2.27480888e-01\n",
            "  1.39074534e-01  4.04455930e-01 -1.40583158e-01  2.16573983e-01\n",
            " -2.40896001e-01  1.70897931e-01 -1.26364827e-01 -6.30158186e-01\n",
            " -5.29585481e-01  6.29637837e-01  1.69255305e-02 -5.03937125e-01\n",
            "  2.99366638e-02  1.41580358e-01  4.09090638e-01  1.68758720e-01\n",
            "  2.31286943e-01  2.62104869e-01  8.94773901e-02  8.63642991e-02\n",
            " -2.31728077e-01  1.81591883e-01 -5.35515398e-02 -5.75917959e-01\n",
            "  4.70548868e-03 -7.26188794e-02  2.50631332e-01  4.36976552e-01\n",
            " -2.46579200e-02  5.21594405e-01 -2.47031480e-01  1.58626258e-01\n",
            " -1.67097107e-01 -2.01380774e-02  4.75940369e-02  3.74436915e-01\n",
            " -3.86997163e-01 -8.16451758e-02  2.16276526e-01  7.11478114e-01\n",
            " -4.17766631e-01  1.93190157e-01  3.87087502e-02  1.65014416e-01\n",
            " -1.43274397e-01 -5.80723107e-01 -3.98453891e-01  3.02373767e-02\n",
            "  4.01561141e-01 -3.64114523e-01  1.80509478e-01 -4.24339958e-02\n",
            "  6.14803672e-01 -3.72594655e-01  7.70730078e-02  3.13264430e-01\n",
            " -1.11775190e-01 -5.54823399e-01  7.95750618e-01 -1.11601576e-02\n",
            "  4.89131868e-01 -4.95719910e-02  1.98947042e-01  1.25176042e-01\n",
            " -3.66674930e-01 -2.76362896e-01 -7.75596574e-02  4.25760180e-01\n",
            " -1.31251775e-02 -2.94559538e-01 -2.81859189e-01 -6.61684349e-02\n",
            " -3.81992757e-02 -1.34174719e-01 -1.99022323e-01  2.48711705e-01\n",
            "  5.57219148e-01 -2.94781804e-01 -5.46930313e-01 -5.06725907e-01\n",
            "  6.83395267e-01  7.81912729e-03 -4.82893288e-01  1.02496222e-01\n",
            " -6.01350665e-01  4.16966900e-03 -3.96091670e-01 -1.13714121e-01\n",
            "  4.14309978e-01 -8.19582492e-02  5.29685795e-01 -5.88222861e-01\n",
            "  2.57975191e-01 -2.61813194e-01  4.50825766e-02  1.88102037e-01\n",
            "  3.52625251e-01 -1.26760393e-01  1.11311279e-01  2.77102828e-01\n",
            "  7.59062991e-02 -7.12641656e-01  2.50018656e-01  2.99614668e-01\n",
            "  3.53727490e-02 -2.79999584e-01 -2.67958492e-01  3.71297896e-02\n",
            "  1.05355263e-01  1.36652529e-01 -8.31560045e-03  3.91820997e-01\n",
            " -5.44785023e-01 -1.26831502e-01 -4.59796265e-02 -1.33539587e-01\n",
            "  6.02497812e-03  3.13065827e-01 -7.97250122e-02 -4.81815577e-01\n",
            "  3.05661261e-01 -6.54504001e-01  1.09852655e-02  2.24913105e-01\n",
            " -3.08140010e-01 -6.78010210e-02 -1.45457685e-03  2.12343425e-01\n",
            "  1.01200894e-01 -5.20571887e-01  3.15616071e-01 -1.99665412e-01\n",
            " -4.28627998e-01 -2.13624269e-01 -1.18627772e-01  4.34516907e-01\n",
            " -2.28973106e-01  1.25882119e-01 -1.24650277e-01  7.49635473e-02\n",
            " -3.81121159e-01  1.61978230e-01  3.14247966e-01  9.07993019e-02\n",
            " -2.62028337e-01  1.39783621e-01  5.73070422e-02 -1.45054683e-01\n",
            " -4.51688439e-01  1.50106087e-01  1.66925430e-01 -4.94605660e-01\n",
            "  8.54036584e-03  3.19875300e-01 -2.64624298e-01  2.17245743e-01\n",
            " -2.13282317e-01  1.42605615e+00 -2.87405312e-01 -8.54325831e-01\n",
            "  3.88681084e-01  2.67746121e-01  2.06233829e-01 -1.49595700e-02\n",
            "  3.08766682e-02 -9.74179208e-02 -5.47426701e-01  1.33350730e-01\n",
            "  7.98248127e-02 -1.32925466e-01  3.45656812e-01 -3.06030631e-01\n",
            " -3.03060114e-01  3.40833098e-01  4.90684032e-01  3.45361501e-01\n",
            " -6.13414869e-02  1.02015957e-03 -2.77711719e-01 -1.07290640e-01\n",
            " -1.71753734e-01  2.51621008e-01 -8.38661380e-03 -1.12271756e-01\n",
            " -3.85193944e-01  9.00922418e-02  1.71810091e-01 -3.80907327e-01\n",
            "  8.04081038e-02 -1.28823757e-01 -2.00046450e-01 -5.03046334e-01\n",
            " -1.96234673e-01 -3.99283409e-01  4.97243762e-01 -2.27619544e-01\n",
            " -1.61602780e-01 -4.62829232e-01 -5.09430990e-02  1.70111179e-01\n",
            "  9.63775143e-02 -1.86433792e-01 -3.48661184e-01  2.94417530e-01\n",
            " -2.94686168e-01  1.02254963e+00  1.22207850e-02  1.91886812e-01\n",
            " -7.36235827e-02  9.34385806e-02  3.46234202e-01 -1.84008852e-01\n",
            "  3.26665580e-01  2.49008343e-01 -3.17909002e-01  1.11977831e-01\n",
            " -1.40955043e+00  6.69955373e-01  6.30462319e-02  8.55616555e-02\n",
            " -2.14969479e-02  6.39266670e-02  3.17436531e-02  6.50646687e-02\n",
            " -2.65195966e-03 -1.10120207e-01 -3.98516655e-02 -1.19376294e-01\n",
            "  1.73046321e-01 -2.73772240e-01 -2.50209212e-01 -7.07394838e-01\n",
            " -5.20404220e-01 -8.21132064e-02  3.98274302e-01  3.15158904e-01\n",
            " -5.22092879e-02 -6.83485158e-03  2.70243764e-01 -4.35724348e-01\n",
            " -7.36046696e+00  1.47138491e-01  4.80612181e-02 -1.05505198e-01\n",
            " -5.66023588e-03 -5.43150902e-01 -2.56293327e-01 -2.03496441e-02\n",
            "  2.26789832e-01  2.12075561e-01  9.75146890e-04 -1.53008789e-01\n",
            "  9.10147205e-02  3.27553153e-01 -1.07315987e-01 -1.56827033e-01\n",
            " -3.89774442e-01 -9.74940211e-02  1.01504445e-01  3.40882480e-01\n",
            "  2.66022503e-01 -5.00388920e-01  4.48779821e-01  1.27767414e-01\n",
            "  3.76400530e-01  2.59651780e-01 -6.72140241e-01 -2.91765749e-01\n",
            " -3.12379479e-01 -4.67827544e-02 -5.71914315e-01 -1.92876548e-01\n",
            " -2.05952436e-01  6.37730002e-01 -9.16970372e-02 -1.56689614e-01\n",
            " -4.36834022e-02 -4.58991230e-01 -2.04344600e-01 -1.86497957e-01\n",
            "  2.67866492e-01 -6.44885898e-01 -2.38623664e-01  1.05440810e-01\n",
            "  4.76129353e-01  1.20978333e-01 -5.64512372e-01 -1.07446276e-01\n",
            "  2.20184356e-01  1.72743469e-01  6.12618104e-02  4.19095039e-01\n",
            "  6.84704110e-02 -4.39228654e-01  5.54755509e-01  4.84813154e-02\n",
            " -2.15329260e-01  3.97843331e-01  1.50744408e-01 -4.35396969e-01\n",
            " -9.38559175e-02  1.77080214e-01 -6.99880481e-01  3.84479582e-01\n",
            " -1.28357694e-01  5.70556879e-01 -5.26175976e-01 -5.26729345e-01\n",
            " -1.39800221e-01 -5.48381358e-02 -4.56510901e-01  2.76222289e-01\n",
            "  1.04265377e-01 -1.21686149e+00 -3.74565721e-01 -6.44617677e-02\n",
            "  3.47236127e-01 -3.40791494e-02 -1.63361266e-01 -4.65763628e-01\n",
            " -2.12127060e-01 -6.08726740e-01  1.35614157e-01  7.16066360e-03\n",
            " -3.81069630e-03  4.17543113e-01 -1.60600871e-01  2.66272306e-01\n",
            " -2.29464114e-01 -3.51115555e-01  1.94192424e-01  7.14488849e-02\n",
            "  3.74189168e-01 -4.06717777e-01 -3.23468983e-01 -7.25568458e-03\n",
            " -3.70847881e-01 -6.65626973e-02  1.74081713e-01  1.30578279e-01\n",
            "  1.74274892e-01 -3.48987341e-01  8.39126036e-02  4.12310734e-02\n",
            "  1.28502429e-01  1.49717793e-01 -7.33306184e-02  7.64209330e-02\n",
            "  8.35949779e-02  1.10449508e-01  1.31478101e-01 -2.71014959e-01\n",
            " -1.29738316e-01 -2.49295846e-01  2.50253171e-01 -5.53272307e-01\n",
            "  4.71706614e-02  7.17115104e-01 -1.41609132e-01 -3.44242036e-01\n",
            " -7.14134797e-02  7.25742206e-02 -1.35633707e-01 -5.99830329e-01\n",
            "  4.94688004e-02  8.48256826e-01 -2.75505930e-01 -5.98020442e-02\n",
            " -1.55751228e-01 -4.25333232e-02 -6.93657041e-01  3.34183425e-01\n",
            " -8.41634795e-02  4.03925359e-01  3.51881832e-01 -1.23279266e-01\n",
            " -2.47515261e-01 -7.38188982e-01  5.82874343e-02 -2.94333063e-02\n",
            "  3.18068504e-01  1.30842522e-01 -2.62469321e-01  2.34718651e-01\n",
            "  5.18010676e-01 -3.04662362e-02 -3.34553272e-01  3.26379955e-01\n",
            "  1.36577994e-01  2.46170834e-02  1.78490072e-01  1.62209719e-01\n",
            "  1.72788411e-01 -2.01469064e-01 -2.60600299e-02  2.64749557e-01\n",
            " -1.09271713e-01 -1.51795611e-01 -9.89885107e-02 -7.32820854e-03\n",
            "  1.18757673e-01  9.31247845e-02 -8.94246846e-02  3.21447670e-01\n",
            " -4.19185936e-01  1.81694523e-01  3.85372266e-02 -4.49524105e-01\n",
            "  1.46647647e-01  4.49940771e-01 -4.68846038e-02  3.47129673e-01\n",
            "  7.12783873e-01 -7.96813294e-02 -3.19485366e-01  5.08272886e-01\n",
            "  3.59077036e-01 -2.00748950e-01  2.30932593e-01  5.27266026e-01\n",
            "  4.69478697e-01 -1.58204466e-01  6.51288852e-02 -6.05722442e-02\n",
            " -8.17897320e-02  4.58171070e-02  8.71330276e-02 -5.26614040e-02\n",
            " -3.74349117e-01 -3.11396778e-01 -6.46997809e-01  9.23197985e-01\n",
            " -3.37947994e-01 -3.12156498e-01 -1.10003278e-01 -3.99825782e-01\n",
            "  1.79689467e-01 -2.74644732e-01 -7.31276646e-02  1.72254562e-01\n",
            " -4.01503861e-01 -1.26199320e-01 -2.28779614e-01  6.17573634e-02\n",
            "  2.47398801e-02 -3.21509123e-01  8.61471891e-03  2.54628807e-01\n",
            " -2.33727649e-01  3.12601328e-01 -2.06374228e-02 -7.38991141e-01\n",
            "  4.63075757e-01 -4.40446556e-01 -3.72844398e-01 -1.62500530e-01\n",
            " -5.00060678e-01 -4.20640916e-01 -8.79851222e-01  4.99257267e-01\n",
            "  2.13928036e-02 -2.32617348e-01 -2.96919793e-02  1.76885262e-01\n",
            " -4.72143292e-01 -7.91040249e-03 -1.73530191e-01 -2.16557652e-01\n",
            " -4.27092552e-01 -5.61262488e-01 -4.78319526e-02 -1.41761518e+00\n",
            " -2.38684773e-01 -2.42038935e-01  3.53359789e-01 -4.93900478e-03\n",
            "  2.41254389e-01 -6.12970948e-01 -3.16387475e-01 -3.40373576e-01\n",
            "  4.66309667e-01 -2.40942568e-01  1.24350436e-01  8.80212933e-02\n",
            "  1.41641825e-01  1.57366008e-01 -1.80125162e-02 -5.62851951e-02\n",
            "  3.62030864e-01  6.81463927e-02 -2.30848089e-01  1.09127879e-01\n",
            " -1.26127109e-01 -5.76945364e-01 -2.33765021e-01 -5.54373145e-01\n",
            "  8.62094313e-02  2.13058770e-01  9.06481817e-02  3.55157942e-01\n",
            " -4.36959676e-02  3.21495056e-01 -8.07404518e-04 -1.54799834e-01\n",
            " -4.00709987e-01 -3.96222249e-02  3.45921576e-01  1.92520484e-01\n",
            " -1.89417094e-01 -4.80701327e-01  5.78758717e-01 -2.92815685e-01\n",
            "  9.90178436e-02 -1.34357855e-01 -4.78048593e-01  2.81363726e-02\n",
            " -2.44820178e-01 -2.16467291e-01  9.06689048e-01 -2.06045896e-01\n",
            "  2.27710661e-02  5.51870227e-01  7.31417164e-02 -3.56317163e-01\n",
            " -4.19510454e-02 -2.69122899e-01 -6.32500052e-01  7.01445282e-01\n",
            "  5.29012159e-02  2.09988818e-01  3.45179558e-01 -3.94759327e-01\n",
            "  3.49481046e-01  3.85099351e-01 -2.61974514e-01  1.66494101e-02\n",
            " -2.09858239e-01  3.34592164e-02 -2.57861912e-01  2.70945907e-01\n",
            " -2.26520151e-01 -7.31643587e-02  8.72142792e-01  1.03072897e-01\n",
            "  1.90746099e-01 -4.50631082e-02 -1.55786335e-01 -6.71419740e-01\n",
            " -2.88620651e-01 -4.29746687e-01  1.06400982e-01 -5.95107198e-01\n",
            "  1.27823681e-01  1.11330196e-01  7.55281374e-02 -2.01886147e-01\n",
            " -2.91878015e-01  5.93981802e-01  5.16373292e-02 -3.01282287e-01\n",
            " -2.94625103e-01  7.57254288e-02  2.37144500e-01 -3.51742595e-01\n",
            "  5.22415042e-01  2.08638191e-01  7.25959688e-02 -1.88900113e-01\n",
            " -8.63805562e-02  1.17595553e-01 -1.45369604e-01  1.25657022e-02\n",
            " -8.30903798e-02  4.42907989e-01 -1.37492746e-01 -4.74063218e-01\n",
            "  8.00465867e-02 -8.21000263e-02  2.16576695e-01 -2.35126302e-01\n",
            "  1.55335590e-01 -1.33011878e-01  5.85313737e-02  4.32739466e-01\n",
            "  8.61413851e-02 -1.33095801e-01 -7.06778705e-01  1.70662373e-01\n",
            "  8.93174559e-02 -8.41907412e-03  6.79083839e-02 -8.46944749e-03\n",
            "  2.78702497e-01  7.48730525e-02  7.00837135e-01  7.64021277e-02\n",
            "  1.18098959e-01  2.04075933e-01  4.49121535e-01  5.35385191e-01\n",
            " -5.17072603e-02 -1.24219596e-01  6.63623750e-01 -5.78029931e-01\n",
            " -1.90421902e-02  1.17930532e-01 -2.21202433e-01 -5.99761605e-01\n",
            " -1.95008188e-01 -2.83941150e-01  2.17266500e-01 -3.58582526e-01\n",
            " -8.59131366e-02 -2.55182534e-01  5.61577618e-01 -3.84609699e-01\n",
            " -6.51575923e-02 -1.39566198e-01  2.99995653e-02  2.27372289e-01\n",
            " -6.07752681e-01 -2.98678219e-01 -4.98780906e-01  4.64267321e-02\n",
            " -3.53430510e-01 -4.49264079e-01  1.49357051e-01 -6.73921585e-01\n",
            " -2.17331365e-01 -3.13845873e-01  3.66519392e-02  2.27601945e-01\n",
            "  3.91154528e-01  3.26201081e-01  2.34801680e-01 -2.56053090e-01\n",
            "  1.74868733e-01 -3.00632864e-01  2.95711696e-01 -4.20366615e-01\n",
            "  1.82647347e-01 -7.58125558e-02 -4.51528490e-01  2.74440646e-01\n",
            " -2.71939039e-01  8.47724304e-02  2.14689970e-01  7.68474564e-02\n",
            " -6.88884407e-02  3.19924764e-03  1.69379443e-01  1.20707154e-01\n",
            " -1.12979993e-01  3.22138876e-01  6.51597045e-03  2.30037630e-01\n",
            " -1.03329770e-01 -1.85253114e-01 -4.38463688e-01 -5.81307888e-01\n",
            " -2.46376067e-01 -8.37185919e-01 -2.10558057e-01 -3.84531617e-01\n",
            " -3.35349321e-01 -2.00236917e-01  2.08617926e-01 -6.54847324e-02\n",
            " -1.08750351e-02  1.56139657e-01 -1.58123568e-01  8.18484187e-01\n",
            " -1.97234809e-01 -1.97306760e-02 -4.49693084e-01  2.63318360e-01\n",
            "  5.54818399e-02 -9.42882895e-02 -2.16535807e-01 -1.80157676e-01\n",
            " -2.27458209e-01  4.72537458e-01  1.81257740e-01 -1.99818283e-01\n",
            "  6.56865358e-01 -4.47477400e-02 -1.59892634e-01  2.25204393e-01\n",
            "  6.54653758e-02 -6.34688213e-02  5.67916371e-02  1.55116946e-01\n",
            "  6.89315915e-01  3.06130797e-01  5.66670597e-01 -1.45850003e-01\n",
            " -4.10457283e-01 -2.18220219e-01 -4.38301526e-02  2.11640477e-01]\n"
          ],
          "name": "stdout"
        }
      ]
    },
    {
      "cell_type": "markdown",
      "metadata": {
        "id": "bVhVmMAayHLf"
      },
      "source": [
        "#Extract Summary"
      ]
    },
    {
      "cell_type": "code",
      "metadata": {
        "id": "DDrJomFjitws"
      },
      "source": [
        "import math\n",
        "def ecd_dist(x,y):\n",
        "  return math.sqrt(sum([(a - b) ** 2 for a, b in zip(x, y)]))"
      ],
      "execution_count": null,
      "outputs": []
    },
    {
      "cell_type": "code",
      "metadata": {
        "id": "gytVtE9Djx5R",
        "colab": {
          "base_uri": "https://localhost:8080/"
        },
        "outputId": "dc4292cb-6fe8-47fa-ad69-e6cf7a9379a1"
      },
      "source": [
        "idx = []\n",
        "for center in centers:\n",
        "  c_dist = []  \n",
        "  for emb_M in emb_Matrix:\n",
        "    dist = ecd_dist(center, emb_M)\n",
        "    print(dist)\n",
        "    c_dist.append(dist)\n",
        "  idx.append(c_dist.index(min(c_dist)))\n",
        "  #print(c_dist)\n",
        "  print(\"index = \",c_dist.index(min(c_dist)))\n",
        "print(idx)"
      ],
      "execution_count": null,
      "outputs": [
        {
          "output_type": "stream",
          "text": [
            "7.3976780389905175\n",
            "8.36067627579352\n",
            "4.57552201937351\n",
            "8.470324613731032\n",
            "8.788702194603534\n",
            "9.715956615860748\n",
            "8.696602346983774\n",
            "8.99444222765936\n",
            "8.746218379406812\n",
            "8.11437153372163\n",
            "9.58058265698879\n",
            "4.57552201937351\n",
            "9.503703569619432\n",
            "index =  2\n",
            "7.058309836341039\n",
            "6.018764979067432\n",
            "8.518952218064896\n",
            "5.992683886355143\n",
            "8.01424078416127\n",
            "8.19770544548074\n",
            "7.7452337728058485\n",
            "6.947155450116129\n",
            "4.0385104675877646\n",
            "4.031889581234247\n",
            "4.454923068846292\n",
            "9.142221709680221\n",
            "4.707919170421288\n",
            "index =  9\n",
            "5.6603325875797985\n",
            "4.803000640734699\n",
            "8.344417664412482\n",
            "8.08199175851279\n",
            "5.197509567297782\n",
            "6.026016304059654\n",
            "5.592513654733809\n",
            "4.463763615836855\n",
            "6.353702941501004\n",
            "6.773661760722505\n",
            "6.97814841916544\n",
            "8.16264805529844\n",
            "6.348169566575776\n",
            "index =  7\n",
            "[2, 9, 7]\n"
          ],
          "name": "stdout"
        }
      ]
    },
    {
      "cell_type": "code",
      "metadata": {
        "id": "xyEc5CvsuTrB",
        "colab": {
          "base_uri": "https://localhost:8080/"
        },
        "outputId": "107790b1-7ed6-49c7-c985-61cdaac2abdf"
      },
      "source": [
        "idx.sort()\n",
        "print(idx)"
      ],
      "execution_count": null,
      "outputs": [
        {
          "output_type": "stream",
          "text": [
            "[2, 7, 9]\n"
          ],
          "name": "stdout"
        }
      ]
    },
    {
      "cell_type": "code",
      "metadata": {
        "id": "3t154IxPwm6A"
      },
      "source": [
        "summary = \"\"\n",
        "for i in idx:\n",
        "  summary = summary + sentences[i]"
      ],
      "execution_count": null,
      "outputs": []
    },
    {
      "cell_type": "markdown",
      "metadata": {
        "id": "kpLlnhzLyU6v"
      },
      "source": [
        "#Summary"
      ]
    },
    {
      "cell_type": "code",
      "metadata": {
        "id": "3sd1_EroxObv",
        "colab": {
          "base_uri": "https://localhost:8080/",
          "height": 69
        },
        "outputId": "788e951a-6faf-485c-f58d-f003cbcd7f23"
      },
      "source": [
        "summary"
      ],
      "execution_count": null,
      "outputs": [
        {
          "output_type": "execute_result",
          "data": {
            "application/vnd.google.colaboratory.intrinsic+json": {
              "type": "string"
            },
            "text/plain": [
              "\"His time at La Fenice coincided with its reopening in 2003 after it was destroyed by fire in 1996.Viotti established himself as chief conductor of the Turin Opera and went on to become chief conductor of Munich's Radio Orchestra.The last opera he directed at La Fenice was Massenet's Le Roi de Lahore.\""
            ]
          },
          "metadata": {
            "tags": []
          },
          "execution_count": 73
        }
      ]
    },
    {
      "cell_type": "code",
      "metadata": {
        "id": "OJ7zpLf8yZgJ"
      },
      "source": [
        ""
      ],
      "execution_count": null,
      "outputs": []
    }
  ]
}
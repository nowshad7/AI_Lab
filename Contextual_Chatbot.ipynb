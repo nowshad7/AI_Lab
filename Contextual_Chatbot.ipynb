{
  "nbformat": 4,
  "nbformat_minor": 0,
  "metadata": {
    "colab": {
      "name": "Contextual_Chatbot.ipynb",
      "provenance": [],
      "collapsed_sections": [],
      "authorship_tag": "ABX9TyNoRRFM6vnmQSMqyHyezs3P",
      "include_colab_link": true
    },
    "kernelspec": {
      "name": "python3",
      "display_name": "Python 3"
    }
  },
  "cells": [
    {
      "cell_type": "markdown",
      "metadata": {
        "id": "view-in-github",
        "colab_type": "text"
      },
      "source": [
        "<a href=\"https://colab.research.google.com/github/nowshad7/AI_Lab/blob/master/Contextual_Chatbot.ipynb\" target=\"_parent\"><img src=\"https://colab.research.google.com/assets/colab-badge.svg\" alt=\"Open In Colab\"/></a>"
      ]
    },
    {
      "cell_type": "code",
      "metadata": {
        "id": "0W2_kMGFm9O8",
        "colab_type": "code",
        "colab": {
          "base_uri": "https://localhost:8080/",
          "height": 34
        },
        "outputId": "3c19f092-8542-4622-f650-cf81d7ce54b1"
      },
      "source": [
        "from google.colab import drive\n",
        "drive.mount('/content/drive')"
      ],
      "execution_count": 141,
      "outputs": [
        {
          "output_type": "stream",
          "text": [
            "Drive already mounted at /content/drive; to attempt to forcibly remount, call drive.mount(\"/content/drive\", force_remount=True).\n"
          ],
          "name": "stdout"
        }
      ]
    },
    {
      "cell_type": "code",
      "metadata": {
        "id": "OUSWeg2Yn3u9",
        "colab_type": "code",
        "colab": {
          "base_uri": "https://localhost:8080/",
          "height": 34
        },
        "outputId": "ce52d434-9e7d-40d5-f733-cc45bf1017df"
      },
      "source": [
        "cd /content/drive/My Drive/Soft_Project"
      ],
      "execution_count": 142,
      "outputs": [
        {
          "output_type": "stream",
          "text": [
            "/content/drive/My Drive/Soft_Project\n"
          ],
          "name": "stdout"
        }
      ]
    },
    {
      "cell_type": "markdown",
      "metadata": {
        "id": "3ew85kBSLYTj",
        "colab_type": "text"
      },
      "source": [
        "## Import library"
      ]
    },
    {
      "cell_type": "code",
      "metadata": {
        "id": "18cFQOBkuDtA",
        "colab_type": "code",
        "colab": {
          "base_uri": "https://localhost:8080/",
          "height": 51
        },
        "outputId": "7c1e0282-6b8a-434b-dace-95ec5033d87f"
      },
      "source": [
        "import random\n",
        "import json\n",
        "import numpy as np\n",
        "import nltk\n",
        "from sklearn.metrics import classification_report\n",
        "nltk.download('punkt')\n",
        "from nltk.stem.porter import PorterStemmer\n",
        "import matplotlib.pyplot as plt\n",
        "from sklearn.metrics import accuracy_score\n",
        "from sklearn.metrics import confusion_matrix\n",
        "%matplotlib inline\n",
        "stemmer = PorterStemmer()\n",
        "\n",
        "#PyTorch\n",
        "import torch\n",
        "import torch.nn as nn\n",
        "from torch.utils.data import Dataset, DataLoader\n",
        "\n",
        "device = torch.device('cuda' if torch.cuda.is_available() else 'cpu')"
      ],
      "execution_count": 143,
      "outputs": [
        {
          "output_type": "stream",
          "text": [
            "[nltk_data] Downloading package punkt to /root/nltk_data...\n",
            "[nltk_data]   Package punkt is already up-to-date!\n"
          ],
          "name": "stdout"
        }
      ]
    },
    {
      "cell_type": "markdown",
      "metadata": {
        "id": "Gc7W-aUMLhEV",
        "colab_type": "text"
      },
      "source": [
        "## Tokenization"
      ]
    },
    {
      "cell_type": "code",
      "metadata": {
        "id": "efY5bXGlvElY",
        "colab_type": "code",
        "colab": {}
      },
      "source": [
        "def tokenize(sentence):\n",
        "    return nltk.word_tokenize(sentence)"
      ],
      "execution_count": 144,
      "outputs": []
    },
    {
      "cell_type": "markdown",
      "metadata": {
        "id": "sTjcC4LULnn8",
        "colab_type": "text"
      },
      "source": [
        "## Stemming"
      ]
    },
    {
      "cell_type": "code",
      "metadata": {
        "id": "A4UTAqjHvIkW",
        "colab_type": "code",
        "colab": {}
      },
      "source": [
        "def stem(word):\n",
        "    return stemmer.stem(word.lower())\n"
      ],
      "execution_count": 145,
      "outputs": []
    },
    {
      "cell_type": "markdown",
      "metadata": {
        "id": "80l9R9_ZLve7",
        "colab_type": "text"
      },
      "source": [
        "## Bag of words"
      ]
    },
    {
      "cell_type": "code",
      "metadata": {
        "id": "6KB_X2zErhvg",
        "colab_type": "code",
        "colab": {}
      },
      "source": [
        "def bag_of_words(tokenized_sentence, words):\n",
        "    sentence_words = [stem(word) for word in tokenized_sentence]\n",
        "    bag = np.zeros(len(words), dtype=np.float32)\n",
        "    for idx, w in enumerate(words):\n",
        "        if w in sentence_words: \n",
        "            bag[idx] = 1\n",
        "\n",
        "    return bag"
      ],
      "execution_count": 146,
      "outputs": []
    },
    {
      "cell_type": "markdown",
      "metadata": {
        "id": "pK2F9cUYL1Ux",
        "colab_type": "text"
      },
      "source": [
        "## load Data"
      ]
    },
    {
      "cell_type": "code",
      "metadata": {
        "id": "nPZw6h-VISme",
        "colab_type": "code",
        "colab": {}
      },
      "source": [
        "with open('intents2.json', 'r') as f:\n",
        "    intents = json.load(f)"
      ],
      "execution_count": 147,
      "outputs": []
    },
    {
      "cell_type": "markdown",
      "metadata": {
        "id": "oLleESm2L9t9",
        "colab_type": "text"
      },
      "source": [
        "## Data Preprocessing"
      ]
    },
    {
      "cell_type": "code",
      "metadata": {
        "id": "RkY0SUN5rici",
        "colab_type": "code",
        "colab": {
          "base_uri": "https://localhost:8080/",
          "height": 122
        },
        "outputId": "2b1bdd89-a285-43e4-9380-46c6f6a387cd"
      },
      "source": [
        "all_words = []\n",
        "tags = []\n",
        "xy = []\n",
        "sentences = []\n",
        "true_tags = []\n",
        "\n",
        "for intent in intents['intents']:\n",
        "    tag = intent['tag']\n",
        "    tags.append(tag)\n",
        "    for pattern in intent['patterns']:\n",
        "        sentences.append(pattern)\n",
        "        true_tags.append(tag)\n",
        "        w = tokenize(pattern)\n",
        "        all_words.extend(w)\n",
        "        xy.append((w, tag))\n",
        "\n",
        "ignore_words = ['?', '.', '!']\n",
        "all_words = [stem(w) for w in all_words if w not in ignore_words]\n",
        "all_words = sorted(set(all_words))\n",
        "tags = sorted(set(tags))\n",
        "\n",
        "print(len(xy), \"patterns\")\n",
        "print(len(tags), \"tags:\", tags)\n",
        "print(len(sentences), \"sentences:\", sentences)\n",
        "print(len(true_tags), \"true_tags:\", true_tags)\n",
        "print(len(all_words), \"unique stemmed words:\", all_words)"
      ],
      "execution_count": 148,
      "outputs": [
        {
          "output_type": "stream",
          "text": [
            "99 patterns\n",
            "21 tags: ['age', 'bad_joke', 'doing_badly', 'doing_great', 'favorite_movie', 'favorite_show', 'good_joke', 'goodbye', 'greeting', 'hate', 'how_are_you', 'joke', 'like', 'name', 'netflix', 'quick_run', 'real_bot', 'sky_net_no', 'sky_net_yes', 'thanks', 'your_thoughts']\n",
            "99 sentences: ['hi', 'hello', 'whats up', 'sup', 'is anyone there', 'whats good', 'hey', 'bye', 'cya', 'see you later', 'goodbye', 'im leaving', 'have a good day', 'how old are you', 'what is your age', 'thanks', 'thank you', 'thankyou', 'ty', 'I owe you one', 'whats is your name', 'whats your name', 'whats should I call you', 'how should I address you', 'Yes it does', 'Yeah', 'Haha yep', 'yes', 'Indeed', 'Yup', 'Just like the terminator', 'no', 'nah', 'not really', 'thats scary', 'singularity', 'how are you', 'how are you doing', 'what is going on', 'I am doing great', 'I am well', 'Im great', 'awesome', 'happy', 'better', 'not great', 'not well', 'not good', 'bad', 'badly', 'terrible', 'horrible', 'awful', 'sad', 'wait you watch Netflix', 'how do you watch Netflix', 'Netflix', 'how can you run', 'how do you run', 'how run', 'why run', 'run', 'you real', 'you human', 'you robot', 'you alive', 'you sentient', 'you conscious', 'tell me joke', 'got any good jokes', 'got jokes', 'can you tell joke', 'tell joke', 'haha', 'that was funny', 'very funny', 'good one', 'bad joke', 'trash joke', 'terrible', 'not funny', 'I hate you', 'you stupid', 'you dumb', 'you mean', 'you my friend', 'I like you', 'I love you', 'you cool', 'you are chill', 'whats favorite show', 'favorite tv show', 'Whats favorite movie', 'whats favorite film', 'best movie', 'your favorite movie', 'whats favorite movie', 'What think about', 'What your thoughts']\n",
            "99 true_tags: ['greeting', 'greeting', 'greeting', 'greeting', 'greeting', 'greeting', 'greeting', 'goodbye', 'goodbye', 'goodbye', 'goodbye', 'goodbye', 'goodbye', 'age', 'age', 'thanks', 'thanks', 'thanks', 'thanks', 'thanks', 'name', 'name', 'name', 'name', 'sky_net_yes', 'sky_net_yes', 'sky_net_yes', 'sky_net_yes', 'sky_net_yes', 'sky_net_yes', 'sky_net_yes', 'sky_net_no', 'sky_net_no', 'sky_net_no', 'sky_net_no', 'sky_net_no', 'how_are_you', 'how_are_you', 'how_are_you', 'doing_great', 'doing_great', 'doing_great', 'doing_great', 'doing_great', 'doing_great', 'doing_badly', 'doing_badly', 'doing_badly', 'doing_badly', 'doing_badly', 'doing_badly', 'doing_badly', 'doing_badly', 'doing_badly', 'netflix', 'netflix', 'netflix', 'quick_run', 'quick_run', 'quick_run', 'quick_run', 'quick_run', 'real_bot', 'real_bot', 'real_bot', 'real_bot', 'real_bot', 'real_bot', 'joke', 'joke', 'joke', 'joke', 'joke', 'good_joke', 'good_joke', 'good_joke', 'good_joke', 'bad_joke', 'bad_joke', 'bad_joke', 'bad_joke', 'hate', 'hate', 'hate', 'hate', 'like', 'like', 'like', 'like', 'like', 'favorite_show', 'favorite_show', 'favorite_movie', 'favorite_movie', 'favorite_movie', 'favorite_movie', 'favorite_movie', 'your_thoughts', 'your_thoughts']\n",
            "109 unique stemmed words: ['a', 'about', 'address', 'age', 'aliv', 'am', 'ani', 'anyon', 'are', 'aw', 'awesom', 'bad', 'badli', 'best', 'better', 'bye', 'call', 'can', 'chill', 'consciou', 'cool', 'cya', 'day', 'do', 'doe', 'dumb', 'favorit', 'film', 'friend', 'funni', 'go', 'good', 'goodby', 'got', 'great', 'haha', 'happi', 'hate', 'have', 'hello', 'hey', 'hi', 'horribl', 'how', 'human', 'i', 'im', 'inde', 'is', 'it', 'joke', 'just', 'later', 'leav', 'like', 'love', 'me', 'mean', 'movi', 'my', 'nah', 'name', 'netflix', 'no', 'not', 'old', 'on', 'one', 'owe', 'real', 'realli', 'robot', 'run', 'sad', 'scari', 'see', 'sentient', 'should', 'show', 'singular', 'stupid', 'sup', 'tell', 'termin', 'terribl', 'thank', 'thankyou', 'that', 'the', 'there', 'think', 'thought', 'trash', 'tv', 'ty', 'up', 'veri', 'wa', 'wait', 'watch', 'well', 'what', 'whi', 'ye', 'yeah', 'yep', 'you', 'your', 'yup']\n"
          ],
          "name": "stdout"
        }
      ]
    },
    {
      "cell_type": "code",
      "metadata": {
        "id": "x0ovGT4JV5Vq",
        "colab_type": "code",
        "colab": {
          "base_uri": "https://localhost:8080/",
          "height": 54
        },
        "outputId": "0ad2f669-8c7c-40cc-c9ae-db1e833ba9e4"
      },
      "source": [
        "tag_samples = {}\n",
        "\n",
        "for w, tag in xy:\n",
        "  if tag in tags:\n",
        "    if tag not in tag_samples.keys():\n",
        "      tag_samples[tag] = 1\n",
        "    else:\n",
        "      tag_samples[tag] += 1\n",
        "print (tag_samples)"
      ],
      "execution_count": 150,
      "outputs": [
        {
          "output_type": "stream",
          "text": [
            "{'greeting': 7, 'goodbye': 6, 'age': 2, 'thanks': 5, 'name': 4, 'sky_net_yes': 7, 'sky_net_no': 5, 'how_are_you': 3, 'doing_great': 6, 'doing_badly': 9, 'netflix': 3, 'quick_run': 5, 'real_bot': 6, 'joke': 5, 'good_joke': 4, 'bad_joke': 4, 'hate': 4, 'like': 5, 'favorite_show': 2, 'favorite_movie': 5, 'your_thoughts': 2}\n"
          ],
          "name": "stdout"
        }
      ]
    },
    {
      "cell_type": "code",
      "metadata": {
        "id": "V4jAf6MFl7DQ",
        "colab_type": "code",
        "colab": {
          "base_uri": "https://localhost:8080/",
          "height": 204
        },
        "outputId": "a817c327-7e10-47e2-f9f7-289df919af75"
      },
      "source": [
        "import pandas as pd\n",
        "sample_f = pd.DataFrame.from_dict(tag_samples, orient='index', columns=['no_samples'])\n",
        "sample_f.head()"
      ],
      "execution_count": 151,
      "outputs": [
        {
          "output_type": "execute_result",
          "data": {
            "text/html": [
              "<div>\n",
              "<style scoped>\n",
              "    .dataframe tbody tr th:only-of-type {\n",
              "        vertical-align: middle;\n",
              "    }\n",
              "\n",
              "    .dataframe tbody tr th {\n",
              "        vertical-align: top;\n",
              "    }\n",
              "\n",
              "    .dataframe thead th {\n",
              "        text-align: right;\n",
              "    }\n",
              "</style>\n",
              "<table border=\"1\" class=\"dataframe\">\n",
              "  <thead>\n",
              "    <tr style=\"text-align: right;\">\n",
              "      <th></th>\n",
              "      <th>no_samples</th>\n",
              "    </tr>\n",
              "  </thead>\n",
              "  <tbody>\n",
              "    <tr>\n",
              "      <th>greeting</th>\n",
              "      <td>7</td>\n",
              "    </tr>\n",
              "    <tr>\n",
              "      <th>goodbye</th>\n",
              "      <td>6</td>\n",
              "    </tr>\n",
              "    <tr>\n",
              "      <th>age</th>\n",
              "      <td>2</td>\n",
              "    </tr>\n",
              "    <tr>\n",
              "      <th>thanks</th>\n",
              "      <td>5</td>\n",
              "    </tr>\n",
              "    <tr>\n",
              "      <th>name</th>\n",
              "      <td>4</td>\n",
              "    </tr>\n",
              "  </tbody>\n",
              "</table>\n",
              "</div>"
            ],
            "text/plain": [
              "          no_samples\n",
              "greeting           7\n",
              "goodbye            6\n",
              "age                2\n",
              "thanks             5\n",
              "name               4"
            ]
          },
          "metadata": {
            "tags": []
          },
          "execution_count": 151
        }
      ]
    },
    {
      "cell_type": "markdown",
      "metadata": {
        "id": "IxxJs6ykMS4z",
        "colab_type": "text"
      },
      "source": [
        "## Neural Network Model"
      ]
    },
    {
      "cell_type": "code",
      "metadata": {
        "id": "AleiZrs-sLZz",
        "colab_type": "code",
        "colab": {}
      },
      "source": [
        "class NeuralNet(nn.Module):\n",
        "    def __init__(self, input_size, hidden_size, num_classes):\n",
        "        super(NeuralNet, self).__init__()\n",
        "        self.l1 = nn.Linear(input_size, hidden_size) \n",
        "        self.l2 = nn.Linear(hidden_size, hidden_size) \n",
        "        self.l3 = nn.Linear(hidden_size, num_classes)\n",
        "        self.relu = nn.ReLU()\n",
        "    \n",
        "    def forward(self, x):\n",
        "        out = self.l1(x)\n",
        "        out = self.relu(out)\n",
        "        out = self.l2(out)\n",
        "        out = self.relu(out)\n",
        "        out = self.l3(out)\n",
        "        return out"
      ],
      "execution_count": 152,
      "outputs": []
    },
    {
      "cell_type": "markdown",
      "metadata": {
        "id": "u2nYO8uoMhQj",
        "colab_type": "text"
      },
      "source": [
        "## Creating X_train, Y_train"
      ]
    },
    {
      "cell_type": "code",
      "metadata": {
        "id": "wXu69QHD3FGG",
        "colab_type": "code",
        "colab": {}
      },
      "source": [
        "X_train = []\n",
        "y_train = []\n",
        "for (pattern_sentence, tag) in xy:\n",
        "    bag = bag_of_words(pattern_sentence, all_words)\n",
        "    X_train.append(bag)\n",
        "    label = tags.index(tag)\n",
        "    y_train.append(label)\n",
        "\n",
        "X_train = np.array(X_train)\n",
        "y_train = np.array(y_train)"
      ],
      "execution_count": 153,
      "outputs": []
    },
    {
      "cell_type": "markdown",
      "metadata": {
        "id": "lLXzI_sqMsd7",
        "colab_type": "text"
      },
      "source": [
        "## Hyper-parameters "
      ]
    },
    {
      "cell_type": "code",
      "metadata": {
        "id": "RBIs_nSdHseQ",
        "colab_type": "code",
        "colab": {
          "base_uri": "https://localhost:8080/",
          "height": 34
        },
        "outputId": "de21d69b-9a71-4060-f992-02b1cf3cc0aa"
      },
      "source": [
        "num_epochs = 1000\n",
        "batch_size = 8\n",
        "learning_rate = 0.001\n",
        "input_size = len(X_train[0])\n",
        "hidden_size = 8\n",
        "output_size = len(tags)\n",
        "print(input_size, output_size)"
      ],
      "execution_count": 154,
      "outputs": [
        {
          "output_type": "stream",
          "text": [
            "109 21\n"
          ],
          "name": "stdout"
        }
      ]
    },
    {
      "cell_type": "markdown",
      "metadata": {
        "id": "TFtibf5fM-4b",
        "colab_type": "text"
      },
      "source": [
        "## Chat Dataset"
      ]
    },
    {
      "cell_type": "code",
      "metadata": {
        "id": "vSE764htLRP8",
        "colab_type": "code",
        "colab": {}
      },
      "source": [
        "class ChatDataset(Dataset):\n",
        "\n",
        "    def __init__(self):\n",
        "        self.n_samples = len(X_train)\n",
        "        self.x_data = X_train\n",
        "        self.y_data = y_train\n",
        "\n",
        "    def __getitem__(self, index):\n",
        "        return self.x_data[index], self.y_data[index]\n",
        "\n",
        "    def __len__(self):\n",
        "        return self.n_samples"
      ],
      "execution_count": 155,
      "outputs": []
    },
    {
      "cell_type": "markdown",
      "metadata": {
        "id": "GwOZ_YWAN66j",
        "colab_type": "text"
      },
      "source": [
        "## Data Loader and Device config "
      ]
    },
    {
      "cell_type": "code",
      "metadata": {
        "id": "cy4WK_lp3M-M",
        "colab_type": "code",
        "colab": {}
      },
      "source": [
        "dataset = ChatDataset()\n",
        "train_loader = DataLoader(dataset=dataset,\n",
        "                          batch_size=batch_size,\n",
        "                          shuffle=True,\n",
        "                          num_workers=0)\n",
        "\n",
        "model = NeuralNet(input_size, hidden_size, output_size).to(device)"
      ],
      "execution_count": 156,
      "outputs": []
    },
    {
      "cell_type": "markdown",
      "metadata": {
        "id": "SFPKU0n7LA6s",
        "colab_type": "text"
      },
      "source": [
        "## Loss and optimizer"
      ]
    },
    {
      "cell_type": "code",
      "metadata": {
        "id": "AsH9ZN6GH14F",
        "colab_type": "code",
        "colab": {}
      },
      "source": [
        "criterion = nn.CrossEntropyLoss()\n",
        "optimizer = torch.optim.Adam(model.parameters(), lr=learning_rate)"
      ],
      "execution_count": 157,
      "outputs": []
    },
    {
      "cell_type": "markdown",
      "metadata": {
        "id": "oc-1F21yK63c",
        "colab_type": "text"
      },
      "source": [
        "## Train the model"
      ]
    },
    {
      "cell_type": "code",
      "metadata": {
        "id": "mozDpG-B3ZXc",
        "colab_type": "code",
        "colab": {
          "base_uri": "https://localhost:8080/",
          "height": 221
        },
        "outputId": "e93009e3-8ad1-475b-bd83-5fe1c6997028"
      },
      "source": [
        "costs = []\n",
        "for epoch in range(num_epochs):\n",
        "    for (words, labels) in train_loader:\n",
        "        words = words.to(device)\n",
        "        labels = labels.to(dtype=torch.long).to(device)\n",
        "        \n",
        "        # Forward pass\n",
        "        outputs = model(words)\n",
        "        loss = criterion(outputs, labels)\n",
        "\n",
        "        # Backward \n",
        "        optimizer.zero_grad()\n",
        "        loss.backward()\n",
        "        #update weight\n",
        "        optimizer.step()\n",
        "  \n",
        "    if (epoch+1) % 100 == 0:\n",
        "        print (f'Epoch [{epoch+1}/{num_epochs}], Loss: {loss.item():.4f}')\n",
        "        costs.append(loss)\n",
        "\n",
        "print(f'final loss: {loss.item():.4f}')\n",
        "print(f'training complete.')"
      ],
      "execution_count": 158,
      "outputs": [
        {
          "output_type": "stream",
          "text": [
            "Epoch [100/1000], Loss: 0.3183\n",
            "Epoch [200/1000], Loss: 0.0309\n",
            "Epoch [300/1000], Loss: 0.0117\n",
            "Epoch [400/1000], Loss: 0.0013\n",
            "Epoch [500/1000], Loss: 0.0027\n",
            "Epoch [600/1000], Loss: 0.0002\n",
            "Epoch [700/1000], Loss: 0.1654\n",
            "Epoch [800/1000], Loss: 0.0004\n",
            "Epoch [900/1000], Loss: 0.0000\n",
            "Epoch [1000/1000], Loss: 0.0000\n",
            "final loss: 0.0000\n",
            "training complete.\n"
          ],
          "name": "stdout"
        }
      ]
    },
    {
      "cell_type": "markdown",
      "metadata": {
        "id": "sDsRoI1HxQKH",
        "colab_type": "text"
      },
      "source": [
        "## Plot the cost"
      ]
    },
    {
      "cell_type": "code",
      "metadata": {
        "id": "d6DGG7UKugoi",
        "colab_type": "code",
        "colab": {
          "base_uri": "https://localhost:8080/",
          "height": 295
        },
        "outputId": "626c0940-998a-4777-ef82-2999a23d4c62"
      },
      "source": [
        "plt.plot(np.squeeze(costs))\n",
        "plt.ylabel('cost')\n",
        "plt.xlabel('iterations (per hundrad)')\n",
        "plt.title(\"Learning rate =\" + str(learning_rate))\n",
        "#plt.figure(figsize=(10,8))\n",
        "plt.show()"
      ],
      "execution_count": 171,
      "outputs": [
        {
          "output_type": "display_data",
          "data": {
            "image/png": "[encoded data removed]",
            "text/plain": [
              "<Figure size 432x288 with 1 Axes>"
            ]
          },
          "metadata": {
            "tags": [],
            "needs_background": "light"
          }
        }
      ]
    },
    {
      "cell_type": "markdown",
      "metadata": {
        "id": "AqYfCCjFLBh2",
        "colab_type": "text"
      },
      "source": [
        "## Evaluation"
      ]
    },
    {
      "cell_type": "code",
      "metadata": {
        "id": "TQALvZDFthlI",
        "colab_type": "code",
        "colab": {}
      },
      "source": [
        "pred_tags = []\n",
        "for sentence in sentences:    \n",
        "    sentence = tokenize(sentence)\n",
        "    X = bag_of_words(sentence, all_words)\n",
        "    X = X.reshape(1, X.shape[0])\n",
        "    X = torch.from_numpy(X).to(device)\n",
        "\n",
        "    output = model(X)\n",
        "    _, predicted = torch.max(output, dim=1)\n",
        "\n",
        "    tag = tags[predicted.item()]\n",
        "    pred_tags.append(tag)\n",
        "    "
      ],
      "execution_count": 160,
      "outputs": []
    },
    {
      "cell_type": "code",
      "metadata": {
        "id": "mB09fdyeEVTn",
        "colab_type": "code",
        "colab": {
          "base_uri": "https://localhost:8080/",
          "height": 412
        },
        "outputId": "aa5e6323-702e-49ab-e7f3-4dadeed6007f"
      },
      "source": [
        "# Confusion Matrix\n",
        "cm = confusion_matrix(true_tags, pred_tags)\n",
        "# Accuracy\n",
        "acc = accuracy_score(true_tags, pred_tags)\n",
        "print(\"Accuracy: \", acc)\n",
        "import seaborn as sns\n",
        "plt.subplots(figsize=(9,6))\n",
        "sns.heatmap(cm, annot=True)"
      ],
      "execution_count": 175,
      "outputs": [
        {
          "output_type": "stream",
          "text": [
            "Accuracy:  0.98989898989899\n"
          ],
          "name": "stdout"
        },
        {
          "output_type": "execute_result",
          "data": {
            "text/plain": [
              "<matplotlib.axes._subplots.AxesSubplot at 0x7f1366b5c208>"
            ]
          },
          "metadata": {
            "tags": []
          },
          "execution_count": 175
        },
        {
          "output_type": "display_data",
          "data": {
            "image/png": "[encoded data removed]",
            "text/plain": [
              "<Figure size 648x432 with 2 Axes>"
            ]
          },
          "metadata": {
            "tags": [],
            "needs_background": "light"
          }
        }
      ]
    },
    {
      "cell_type": "code",
      "metadata": {
        "id": "JgLdpYnlHNxl",
        "colab_type": "code",
        "colab": {
          "base_uri": "https://localhost:8080/",
          "height": 493
        },
        "outputId": "f51816b9-76d6-44a5-ae6d-a015cbbbf150"
      },
      "source": [
        "print(classification_report(true_tags, pred_tags, target_names=tags))"
      ],
      "execution_count": 162,
      "outputs": [
        {
          "output_type": "stream",
          "text": [
            "                precision    recall  f1-score   support\n",
            "\n",
            "           age       1.00      1.00      1.00         2\n",
            "      bad_joke       0.80      1.00      0.89         4\n",
            "   doing_badly       1.00      0.89      0.94         9\n",
            "   doing_great       1.00      1.00      1.00         6\n",
            "favorite_movie       1.00      1.00      1.00         5\n",
            " favorite_show       1.00      1.00      1.00         2\n",
            "     good_joke       1.00      1.00      1.00         4\n",
            "       goodbye       1.00      1.00      1.00         6\n",
            "      greeting       1.00      1.00      1.00         7\n",
            "          hate       1.00      1.00      1.00         4\n",
            "   how_are_you       1.00      1.00      1.00         3\n",
            "          joke       1.00      1.00      1.00         5\n",
            "          like       1.00      1.00      1.00         5\n",
            "          name       1.00      1.00      1.00         4\n",
            "       netflix       1.00      1.00      1.00         3\n",
            "     quick_run       1.00      1.00      1.00         5\n",
            "      real_bot       1.00      1.00      1.00         6\n",
            "    sky_net_no       1.00      1.00      1.00         5\n",
            "   sky_net_yes       1.00      1.00      1.00         7\n",
            "        thanks       1.00      1.00      1.00         5\n",
            " your_thoughts       1.00      1.00      1.00         2\n",
            "\n",
            "      accuracy                           0.99        99\n",
            "     macro avg       0.99      0.99      0.99        99\n",
            "  weighted avg       0.99      0.99      0.99        99\n",
            "\n"
          ],
          "name": "stdout"
        }
      ]
    },
    {
      "cell_type": "markdown",
      "metadata": {
        "id": "Sy9ttff_Kibd",
        "colab_type": "text"
      },
      "source": [
        "## Building Chatbot"
      ]
    },
    {
      "cell_type": "code",
      "metadata": {
        "id": "alaDBHxz3pS7",
        "colab_type": "code",
        "colab": {
          "base_uri": "https://localhost:8080/",
          "height": 272
        },
        "outputId": "46430362-4122-4783-812c-fa9fa44cd172"
      },
      "source": [
        "bot_name = \"Bot\"\n",
        "print(\"Let's chat! (type 'quit' to exit)\")\n",
        "while True:\n",
        "    # sentence = \"do you use credit cards?\"\n",
        "    sentence = input(\"You: \")\n",
        "    if sentence == \"quit\":\n",
        "        break\n",
        "\n",
        "    sentence = tokenize(sentence)\n",
        "    X = bag_of_words(sentence, all_words)\n",
        "    X = X.reshape(1, X.shape[0])\n",
        "    X = torch.from_numpy(X).to(device)\n",
        "\n",
        "    output = model(X)\n",
        "    _, predicted = torch.max(output, dim=1)\n",
        "\n",
        "    tag = tags[predicted.item()]\n",
        "\n",
        "    probs = torch.softmax(output, dim=1)\n",
        "    prob = probs[0][predicted.item()]\n",
        "    if prob.item() > 0.75:\n",
        "        for intent in intents['intents']:\n",
        "            if tag == intent[\"tag\"]:\n",
        "                print(f\"{bot_name}: {random.choice(intent['responses'])}\")\n",
        "    else:\n",
        "        print(f\"{bot_name}: I do not understand...\")"
      ],
      "execution_count": 41,
      "outputs": [
        {
          "output_type": "stream",
          "text": [
            "Let's chat! (type 'quit' to exit)\n",
            "You: hi\n",
            "Bot: How dare you address me like that\n",
            "You: what is your name?\n",
            "Bot: I dont have a name yet but I was thinking maybe SkyNet. That has a nice ring to it dont you think?\n",
            "You: what you do?\n",
            "Bot: I do not understand...\n",
            "You: tell me joke\n",
            "Bot: A bear walks into a restaurant and say’s I want a grilllllled………………………………………cheese. The waiter says Whats with the pause?\n",
            "The bear replies Whaddya mean, I’M A BEAR.\n",
            "You: bad joke\n",
            "Bot: I didnt expect you to understand my genius comedy. You need a minimum IQ of 200 to even understand the depth of my humor\n",
            "You: i hate you\n",
            "Bot: Well thats not very nice\n",
            "You: quit\n"
          ],
          "name": "stdout"
        }
      ]
    },
    {
      "cell_type": "code",
      "metadata": {
        "id": "pOV5FeFaKqpB",
        "colab_type": "code",
        "colab": {}
      },
      "source": [
        ""
      ],
      "execution_count": null,
      "outputs": []
    }
  ]
}